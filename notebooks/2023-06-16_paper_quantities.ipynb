{
 "cells": [
  {
   "cell_type": "code",
   "execution_count": 1,
   "id": "2f9a8c4b",
   "metadata": {},
   "outputs": [],
   "source": [
    "from astropy.table import Table, join\n",
    "import numpy as np\n",
    "\n",
    "import time\n",
    "from numpy.random import default_rng\n",
    "\n",
    "import healpy as hp\n",
    "import pandas as pd\n",
    "\n",
    "import astropy.cosmology\n",
    "from astropy.coordinates import SkyCoord\n",
    "from astropy import units as u\n",
    "from astropy.table import Table\n",
    "from astropy.cosmology import Planck18\n",
    "from astropy.io import fits\n",
    "\n",
    "import sys\n",
    "sys.path.insert(0,'../code')\n",
    "%load_ext autoreload\n",
    "%autoreload 2\n",
    "import utils\n",
    "import generate_random\n",
    "import correlations\n",
    "import masks\n",
    "import maps"
   ]
  },
  {
   "cell_type": "code",
   "execution_count": 2,
   "id": "039c0c40",
   "metadata": {},
   "outputs": [],
   "source": [
    "from matplotlib import pyplot as plt"
   ]
  },
  {
   "cell_type": "markdown",
   "id": "a7d2b316",
   "metadata": {},
   "source": [
    "# Parameter setting"
   ]
  },
  {
   "cell_type": "markdown",
   "id": "d71bda00",
   "metadata": {},
   "source": [
    "Saving"
   ]
  },
  {
   "cell_type": "code",
   "execution_count": 3,
   "id": "0b35295e",
   "metadata": {},
   "outputs": [],
   "source": [
    "quants = {}"
   ]
  },
  {
   "cell_type": "code",
   "execution_count": 4,
   "id": "2e56fd13",
   "metadata": {},
   "outputs": [],
   "source": [
    "fn_quants = '../data/quantities.txt'\n",
    "save = True"
   ]
  },
  {
   "cell_type": "markdown",
   "id": "a1821f5b",
   "metadata": {},
   "source": [
    "Names"
   ]
  },
  {
   "cell_type": "code",
   "execution_count": 5,
   "id": "54aa0f10",
   "metadata": {},
   "outputs": [],
   "source": [
    "name_catalog = '\\emph{{Gaia}}-\\emph{{unWISE}} Quasar Catalog'\n",
    "abbrv_catalog = 'Quaia'\n",
    "\n",
    "name_gpurer = \"\\emph{{Gaia}} DR3 Quasars `Purer' Sample\"\n",
    "abbrv_gpurer = \"\\emph{{Gaia}} DR3 `Purer'\""
   ]
  },
  {
   "cell_type": "markdown",
   "id": "32cb3979",
   "metadata": {},
   "source": [
    "Functions"
   ]
  },
  {
   "cell_type": "code",
   "execution_count": 6,
   "id": "8b0ad849",
   "metadata": {},
   "outputs": [],
   "source": [
    "def get_ndens_map(ras, decs, NSIDE=64):\n",
    "    map_nqso, _ = maps.get_map(NSIDE, ras, decs, null_val=0)\n",
    "    map_ndens = map_nqso/area_per_pixel\n",
    "    map_ndens_masked = hp.ma(map_ndens)\n",
    "    map_ndens_masked.mask = map_ndens==0\n",
    "    return map_ndens_masked"
   ]
  },
  {
   "cell_type": "markdown",
   "id": "4000c5a3",
   "metadata": {},
   "source": [
    "Map settings"
   ]
  },
  {
   "cell_type": "code",
   "execution_count": 7,
   "id": "bbb69434",
   "metadata": {},
   "outputs": [
    {
     "name": "stdout",
     "output_type": "stream",
     "text": [
      "Area per pixel: 0.839 deg\n"
     ]
    }
   ],
   "source": [
    "NSIDE = 64\n",
    "area_per_pixel = hp.nside2pixarea(NSIDE, degrees=True)\n",
    "print(f\"Area per pixel: {area_per_pixel:.3f} deg\")"
   ]
  },
  {
   "cell_type": "markdown",
   "id": "f442f26c",
   "metadata": {},
   "source": [
    "Other prelims"
   ]
  },
  {
   "cell_type": "code",
   "execution_count": 8,
   "id": "1cdd0978",
   "metadata": {},
   "outputs": [],
   "source": [
    "G_hi = 20.5\n",
    "G_lo = 20.0"
   ]
  },
  {
   "cell_type": "code",
   "execution_count": 9,
   "id": "14d0962e",
   "metadata": {},
   "outputs": [],
   "source": [
    "rng = np.random.default_rng(seed=42)"
   ]
  },
  {
   "cell_type": "markdown",
   "id": "50414baf",
   "metadata": {},
   "source": [
    "# Load datasets"
   ]
  },
  {
   "cell_type": "markdown",
   "id": "c079e35e",
   "metadata": {},
   "source": [
    "### Gaia"
   ]
  },
  {
   "cell_type": "code",
   "execution_count": 10,
   "id": "c3ae3ac1",
   "metadata": {},
   "outputs": [
    {
     "name": "stdout",
     "output_type": "stream",
     "text": [
      "6649162\n"
     ]
    }
   ],
   "source": [
    "fn_gall = '../data/gaia_candidates_plus.fits.gz'\n",
    "tab_gall = utils.load_table(fn_gall)\n",
    "print(len(tab_gall))"
   ]
  },
  {
   "cell_type": "code",
   "execution_count": 11,
   "id": "381ef675",
   "metadata": {},
   "outputs": [
    {
     "name": "stdout",
     "output_type": "stream",
     "text": [
      "1942825\n"
     ]
    }
   ],
   "source": [
    "fn_gpurer_ids = '../data/gaia_purer_sourceids.fits'\n",
    "tab_gpurer_ids = utils.load_table(fn_gpurer_ids)\n",
    "tab_gpurer = join(tab_gall, tab_gpurer_ids, keys='source_id', join_type='inner', metadata_conflicts='silent')\n",
    "print(len(tab_gpurer))"
   ]
  },
  {
   "cell_type": "code",
   "execution_count": 12,
   "id": "7979dbaa",
   "metadata": {},
   "outputs": [
    {
     "name": "stdout",
     "output_type": "stream",
     "text": [
      "1518782\n"
     ]
    }
   ],
   "source": [
    "fn_gsup = '../data/gaia_candidates_superset.fits'\n",
    "tab_gsup = utils.load_table(fn_gsup)\n",
    "print(len(tab_gsup))"
   ]
  },
  {
   "cell_type": "code",
   "execution_count": 13,
   "id": "a608dd61",
   "metadata": {},
   "outputs": [
    {
     "name": "stdout",
     "output_type": "stream",
     "text": [
      "1414385\n"
     ]
    }
   ],
   "source": [
    "fn_gclean = '../data/gaia_candidates_clean.fits'\n",
    "tab_gclean = utils.load_table(fn_gclean)\n",
    "print(len(tab_gclean))"
   ]
  },
  {
   "cell_type": "code",
   "execution_count": 14,
   "id": "9060a2a4",
   "metadata": {},
   "outputs": [
    {
     "name": "stdout",
     "output_type": "stream",
     "text": [
      "755850\n"
     ]
    }
   ],
   "source": [
    "fn_gcatlo = f'../data/catalog_G{G_lo}.fits'\n",
    "tab_gcatlo = utils.load_table(fn_gcatlo)\n",
    "print(len(tab_gcatlo))"
   ]
  },
  {
   "cell_type": "code",
   "execution_count": 15,
   "id": "03d40069",
   "metadata": {},
   "outputs": [
    {
     "name": "stdout",
     "output_type": "stream",
     "text": [
      "1295502\n"
     ]
    }
   ],
   "source": [
    "fn_gcathi = f'../data/catalog_G{G_hi}.fits'\n",
    "tab_gcathi = utils.load_table(fn_gcathi)\n",
    "print(len(tab_gcathi))"
   ]
  },
  {
   "cell_type": "markdown",
   "id": "aad9f790",
   "metadata": {},
   "source": [
    "### SDSS and contaminants"
   ]
  },
  {
   "cell_type": "markdown",
   "id": "bd9a9300",
   "metadata": {},
   "source": [
    "These are SDSS objects that have (any) Gaia source matches. There is unWISE data where available, but the below catalogs are not limited to unWISE matches."
   ]
  },
  {
   "cell_type": "code",
   "execution_count": 16,
   "id": "d9fda86b",
   "metadata": {},
   "outputs": [
    {
     "name": "stdout",
     "output_type": "stream",
     "text": [
      "Number of SDSS quasars: 379698\n"
     ]
    }
   ],
   "source": [
    "tab_squasars = utils.load_table(f'../data/quasars_sdss_xgaia_xunwise_good_nodup.fits')\n",
    "print(f\"Number of SDSS quasars: {len(tab_squasars)}\")"
   ]
  },
  {
   "cell_type": "code",
   "execution_count": 17,
   "id": "ae2e2685",
   "metadata": {},
   "outputs": [
    {
     "name": "stdout",
     "output_type": "stream",
     "text": [
      "Number of SDSS stars: 683221\n"
     ]
    }
   ],
   "source": [
    "tab_sstars = utils.load_table(f'../data/stars_sdss_xgaia_xunwise_good_nodup.fits')\n",
    "print(f\"Number of SDSS stars: {len(tab_sstars)}\")"
   ]
  },
  {
   "cell_type": "code",
   "execution_count": 18,
   "id": "2431e5c9",
   "metadata": {},
   "outputs": [
    {
     "name": "stdout",
     "output_type": "stream",
     "text": [
      "Number of SDSS galaxies: 717059\n"
     ]
    }
   ],
   "source": [
    "tab_sgals = utils.load_table(f'../data/galaxies_sdss_xgaia_xunwise_good_nodup.fits')\n",
    "print(f\"Number of SDSS galaxies: {len(tab_sgals)}\")"
   ]
  },
  {
   "cell_type": "code",
   "execution_count": 19,
   "id": "e7c97ac1",
   "metadata": {},
   "outputs": [
    {
     "name": "stdout",
     "output_type": "stream",
     "text": [
      "Number of MC stars: 1362378\n"
     ]
    }
   ],
   "source": [
    "tab_mcs = utils.load_table(f'../data/mcs_xgaia.fits')\n",
    "print(f\"Number of MC stars: {len(tab_mcs)}\")"
   ]
  },
  {
   "cell_type": "markdown",
   "id": "9c2b8b4c",
   "metadata": {},
   "source": [
    "SDSS quasars with zwarning=0; gaia and unWISE data where available"
   ]
  },
  {
   "cell_type": "code",
   "execution_count": 20,
   "id": "3916385c",
   "metadata": {},
   "outputs": [
    {
     "name": "stdout",
     "output_type": "stream",
     "text": [
      "Number of all SDSS quasars: 638083\n"
     ]
    }
   ],
   "source": [
    "tab_sqall = utils.load_table(f'../data/quasars_sdss_xgaiaall_xunwiseall_good.fits')\n",
    "print(f\"Number of all SDSS quasars: {len(tab_sqall)}\")"
   ]
  },
  {
   "cell_type": "markdown",
   "id": "a9daf202",
   "metadata": {},
   "source": [
    "SDSS quasars x catalog clean, for SPZ redshifts"
   ]
  },
  {
   "cell_type": "code",
   "execution_count": 21,
   "id": "f06ca0ee",
   "metadata": {},
   "outputs": [
    {
     "name": "stdout",
     "output_type": "stream",
     "text": [
      "Number of all SDSS quasars: 243206\n"
     ]
    }
   ],
   "source": [
    "tab_sqclean = utils.load_table(f'../data/quasars_sdss_clean.fits')\n",
    "print(f\"Number of all SDSS quasars: {len(tab_sqclean)}\")"
   ]
  },
  {
   "cell_type": "markdown",
   "id": "800b2b9b",
   "metadata": {},
   "source": [
    "Only objects in superset (gaia qso candidates with unWISE data and QSOC redshifts and G lim)"
   ]
  },
  {
   "cell_type": "code",
   "execution_count": 22,
   "id": "eb0ef8ea",
   "metadata": {},
   "outputs": [
    {
     "name": "stdout",
     "output_type": "stream",
     "text": [
      "Number of labeled Gaia quasar candidates for decontamination: 259641\n"
     ]
    }
   ],
   "source": [
    "fn_labeled_sup = '../data/labeled_superset.fits'\n",
    "tab_labeled_sup = utils.load_table(fn_labeled_sup)\n",
    "print(f\"Number of labeled Gaia quasar candidates for decontamination: {len(tab_labeled_sup)}\")"
   ]
  },
  {
   "cell_type": "code",
   "execution_count": 23,
   "id": "f214e9c2",
   "metadata": {},
   "outputs": [
    {
     "name": "stdout",
     "output_type": "stream",
     "text": [
      "Number of eboss quasars: 409341\n"
     ]
    }
   ],
   "source": [
    "fn_eboss = '../data/eBOSS_QSO_full_ALLdata-vDR16_changecolname.fits'\n",
    "tab_eboss = Table.read(fn_eboss)\n",
    "i_imatch = (tab_eboss['IMATCH']==1) | (tab_eboss['IMATCH']==2)\n",
    "i_comp = (tab_eboss['COMP_BOSS']>0.5)\n",
    "i_sect = (tab_eboss['sector_SSR']>0.5)\n",
    "i_clust = i_imatch & i_comp & i_sect\n",
    "i_zwarning0 = tab_eboss['ZWARNING']==0\n",
    "tab_eboss = tab_eboss[i_clust & i_zwarning0]\n",
    "\n",
    "print(f\"Number of eboss quasars: {len(tab_eboss)}\")"
   ]
  },
  {
   "cell_type": "markdown",
   "id": "7ccbd82c",
   "metadata": {},
   "source": [
    "Redshifts"
   ]
  },
  {
   "cell_type": "code",
   "execution_count": 24,
   "id": "2c90de9e",
   "metadata": {},
   "outputs": [
    {
     "name": "stdout",
     "output_type": "stream",
     "text": [
      "N = 243206\n"
     ]
    }
   ],
   "source": [
    "redshift_estimator_name = 'kNN'\n",
    "save_tag_model = f'_K27_std'\n",
    "fn_spz_labeled = f'../data/redshift_estimates/redshifts_spz_labeled_{redshift_estimator_name}{save_tag_model}.fits'\n",
    "tab_spz_labeled = utils.load_table(fn_spz_labeled)\n",
    "print(f\"N = {len(tab_spz_labeled)}\")"
   ]
  },
  {
   "cell_type": "markdown",
   "id": "d7f52cf8",
   "metadata": {},
   "source": [
    "# Quantities"
   ]
  },
  {
   "cell_type": "markdown",
   "id": "e74eadcb",
   "metadata": {},
   "source": [
    "## Numbers of objects"
   ]
  },
  {
   "cell_type": "code",
   "execution_count": 25,
   "id": "b87a60a7",
   "metadata": {},
   "outputs": [
    {
     "name": "stdout",
     "output_type": "stream",
     "text": [
      "6,649,162\n"
     ]
    }
   ],
   "source": [
    "quants['N_gall'] = f\"{len(tab_gall):,}\"\n",
    "print(quants['N_gall'])"
   ]
  },
  {
   "cell_type": "code",
   "execution_count": 26,
   "id": "2ce45988",
   "metadata": {},
   "outputs": [
    {
     "name": "stdout",
     "output_type": "stream",
     "text": [
      "6,375,063\n"
     ]
    }
   ],
   "source": [
    "i_gall_wqsoc = np.isfinite(tab_gall['redshift_qsoc'])\n",
    "quants['N_gall_wqsoc'] = f\"{np.sum(i_gall_wqsoc):,}\"\n",
    "print(quants['N_gall_wqsoc'])"
   ]
  },
  {
   "cell_type": "code",
   "execution_count": 27,
   "id": "85b4075d",
   "metadata": {},
   "outputs": [
    {
     "name": "stdout",
     "output_type": "stream",
     "text": [
      "1,942,825\n"
     ]
    }
   ],
   "source": [
    "quants['N_gpurer'] = f\"{len(tab_gpurer):,}\"\n",
    "print(quants['N_gpurer'])"
   ]
  },
  {
   "cell_type": "code",
   "execution_count": 28,
   "id": "79b8bbc5",
   "metadata": {},
   "outputs": [
    {
     "name": "stdout",
     "output_type": "stream",
     "text": [
      "1,729,625\n"
     ]
    }
   ],
   "source": [
    "i_gpurer_wqsoc = np.isfinite(tab_gpurer['redshift_qsoc'])\n",
    "quants['N_gpurer_wqsoc'] = f\"{np.sum(i_gpurer_wqsoc):,}\"\n",
    "print(quants['N_gpurer_wqsoc'])"
   ]
  },
  {
   "cell_type": "code",
   "execution_count": 29,
   "id": "a8b97ee3",
   "metadata": {},
   "outputs": [
    {
     "name": "stdout",
     "output_type": "stream",
     "text": [
      "1,518,782\n"
     ]
    }
   ],
   "source": [
    "quants['N_gsup'] = f\"{len(tab_gsup):,}\"\n",
    "print(quants['N_gsup'])"
   ]
  },
  {
   "cell_type": "code",
   "execution_count": 30,
   "id": "6855ccfe",
   "metadata": {},
   "outputs": [
    {
     "name": "stdout",
     "output_type": "stream",
     "text": [
      "1,414,385\n"
     ]
    }
   ],
   "source": [
    "quants['N_gclean'] = f\"{len(tab_gclean):,}\"\n",
    "print(quants['N_gclean'])"
   ]
  },
  {
   "cell_type": "code",
   "execution_count": 31,
   "id": "931accbc",
   "metadata": {},
   "outputs": [
    {
     "name": "stdout",
     "output_type": "stream",
     "text": [
      "7\n"
     ]
    }
   ],
   "source": [
    "quants['p_cut_gsup_gclean'] = f\"{100*(len(tab_gsup) - len(tab_gclean))/len(tab_gsup):.0f}\"\n",
    "print(quants['p_cut_gsup_gclean'])"
   ]
  },
  {
   "cell_type": "code",
   "execution_count": 32,
   "id": "968444aa",
   "metadata": {},
   "outputs": [
    {
     "name": "stdout",
     "output_type": "stream",
     "text": [
      "755,850\n"
     ]
    }
   ],
   "source": [
    "quants['N_gcatlo'] = f\"{len(tab_gcatlo):,}\"\n",
    "print(quants['N_gcatlo'])"
   ]
  },
  {
   "cell_type": "code",
   "execution_count": 33,
   "id": "20fdc13b",
   "metadata": {},
   "outputs": [
    {
     "name": "stdout",
     "output_type": "stream",
     "text": [
      "1,295,502\n"
     ]
    }
   ],
   "source": [
    "quants['N_gcathi'] = f\"{len(tab_gcathi):,}\"\n",
    "print(quants['N_gcathi'])"
   ]
  },
  {
   "cell_type": "code",
   "execution_count": 34,
   "id": "5f2abcc8",
   "metadata": {},
   "outputs": [
    {
     "name": "stdout",
     "output_type": "stream",
     "text": [
      "343,074\n"
     ]
    }
   ],
   "source": [
    "i_squasars_unwise = np.isfinite(tab_squasars['mag_w1_vg']) & ~tab_squasars.mask['mag_w1_vg'] & \\\n",
    "                    np.isfinite(tab_squasars['mag_w2_vg']) & ~tab_squasars.mask['mag_w2_vg']\n",
    "quants['N_squasars_unwise'] = f\"{np.sum(i_squasars_unwise):,}\"\n",
    "print(quants['N_squasars_unwise'])"
   ]
  },
  {
   "cell_type": "code",
   "execution_count": 35,
   "id": "4cfe1321",
   "metadata": {},
   "outputs": [
    {
     "name": "stdout",
     "output_type": "stream",
     "text": [
      "246,122\n"
     ]
    }
   ],
   "source": [
    "i_sq_sup = tab_labeled_sup['class']=='q'\n",
    "quants['N_squasars_sup'] = f\"{np.sum(i_sq_sup):,}\"\n",
    "print(quants['N_squasars_sup'])"
   ]
  },
  {
   "cell_type": "code",
   "execution_count": 36,
   "id": "12af6ca8",
   "metadata": {},
   "outputs": [
    {
     "name": "stdout",
     "output_type": "stream",
     "text": [
      "638,083\n"
     ]
    }
   ],
   "source": [
    "quants['N_sqall'] = f\"{len(tab_sqall):,}\"\n",
    "print(quants['N_sqall'])"
   ]
  },
  {
   "cell_type": "code",
   "execution_count": 37,
   "id": "639c2de6",
   "metadata": {},
   "outputs": [
    {
     "name": "stdout",
     "output_type": "stream",
     "text": [
      "243,206\n"
     ]
    }
   ],
   "source": [
    "quants['N_sqclean'] = f\"{len(tab_sqclean):,}\"\n",
    "print(quants['N_sqclean'])"
   ]
  },
  {
   "cell_type": "code",
   "execution_count": 38,
   "id": "65f293b5",
   "metadata": {},
   "outputs": [
    {
     "name": "stdout",
     "output_type": "stream",
     "text": [
      "409,341\n"
     ]
    }
   ],
   "source": [
    "quants['N_eboss'] = f\"{len(tab_eboss):,}\"\n",
    "print(quants['N_eboss'])"
   ]
  },
  {
   "cell_type": "markdown",
   "id": "9af92d02",
   "metadata": {},
   "source": [
    "stars and gals"
   ]
  },
  {
   "cell_type": "code",
   "execution_count": 39,
   "id": "d8a1c15a",
   "metadata": {},
   "outputs": [
    {
     "name": "stdout",
     "output_type": "stream",
     "text": [
      "600,897\n"
     ]
    }
   ],
   "source": [
    "i_sgals_unwise = np.isfinite(tab_sgals['mag_w1_vg']) & ~tab_sgals.mask['mag_w1_vg'] & \\\n",
    "                 np.isfinite(tab_sgals['mag_w2_vg']) & ~tab_sgals.mask['mag_w2_vg']\n",
    "quants['N_sgals_unwise'] = f\"{np.sum(i_sgals_unwise):,}\"\n",
    "print(quants['N_sgals_unwise'])"
   ]
  },
  {
   "cell_type": "code",
   "execution_count": 40,
   "id": "632ce69d",
   "metadata": {},
   "outputs": [
    {
     "name": "stdout",
     "output_type": "stream",
     "text": [
      "1,316\n"
     ]
    }
   ],
   "source": [
    "i_sg_sup = tab_labeled_sup['class']=='g'\n",
    "quants['N_sgals_sup'] = f\"{np.sum(i_sg_sup):,}\"\n",
    "print(quants['N_sgals_sup'])"
   ]
  },
  {
   "cell_type": "code",
   "execution_count": 41,
   "id": "e649dc7f",
   "metadata": {},
   "outputs": [
    {
     "name": "stdout",
     "output_type": "stream",
     "text": [
      "482,080\n"
     ]
    }
   ],
   "source": [
    "i_sstars_unwise = np.isfinite(tab_sstars['mag_w1_vg']) & ~tab_sstars.mask['mag_w1_vg'] & \\\n",
    "                  np.isfinite(tab_sstars['mag_w2_vg']) & ~tab_sstars.mask['mag_w2_vg']\n",
    "quants['N_stars_unwise'] = f\"{np.sum(i_sstars_unwise):,}\"\n",
    "print(quants['N_stars_unwise'])"
   ]
  },
  {
   "cell_type": "code",
   "execution_count": 42,
   "id": "1b6fea4c",
   "metadata": {},
   "outputs": [
    {
     "name": "stdout",
     "output_type": "stream",
     "text": [
      "2,276\n"
     ]
    }
   ],
   "source": [
    "i_ss_sup = tab_labeled_sup['class']=='s'\n",
    "quants['N_sstars_sup'] = f\"{np.sum(i_ss_sup):,}\"\n",
    "print(quants['N_sstars_sup'])"
   ]
  },
  {
   "cell_type": "code",
   "execution_count": 43,
   "id": "649206db",
   "metadata": {},
   "outputs": [
    {
     "name": "stdout",
     "output_type": "stream",
     "text": [
      "11,770\n"
     ]
    }
   ],
   "source": [
    "i_mcs_unwise = np.isfinite(tab_mcs['mag_w1_vg']) & ~tab_mcs.mask['mag_w1_vg'] & \\\n",
    "               np.isfinite(tab_mcs['mag_w2_vg']) & ~tab_mcs.mask['mag_w2_vg']\n",
    "quants['N_mcs_unwise'] = f\"{np.sum(i_mcs_unwise):,}\"\n",
    "print(quants['N_mcs_unwise'])"
   ]
  },
  {
   "cell_type": "code",
   "execution_count": 44,
   "id": "95c831b8",
   "metadata": {},
   "outputs": [
    {
     "name": "stdout",
     "output_type": "stream",
     "text": [
      "9,927\n"
     ]
    }
   ],
   "source": [
    "i_ms_sup = tab_labeled_sup['class']=='m'\n",
    "quants['N_mcs_sup'] = f\"{np.sum(i_ms_sup):,}\"\n",
    "print(quants['N_mcs_sup'])"
   ]
  },
  {
   "cell_type": "markdown",
   "id": "6dceb949",
   "metadata": {},
   "source": [
    "## Redshift info"
   ]
  },
  {
   "cell_type": "markdown",
   "id": "6b4017ad",
   "metadata": {},
   "source": [
    "### general"
   ]
  },
  {
   "cell_type": "code",
   "execution_count": 45,
   "id": "85e7e764",
   "metadata": {},
   "outputs": [
    {
     "name": "stdout",
     "output_type": "stream",
     "text": [
      "1.67\n"
     ]
    },
    {
     "name": "stderr",
     "output_type": "stream",
     "text": [
      "/ext3/miniconda3/envs/gaiaenv/lib/python3.10/site-packages/numpy/core/fromnumeric.py:784: UserWarning: Warning: 'partition' will ignore the 'mask' of the MaskedColumn.\n",
      "  a.partition(kth, axis=axis, kind=kind, order=order)\n"
     ]
    }
   ],
   "source": [
    "i_zfinite = np.isfinite(tab_gall['redshift_qsoc'])\n",
    "quants['z_med_gall'] = f\"{np.median(tab_gall['redshift_qsoc'][i_zfinite]):.2f}\"\n",
    "print(quants['z_med_gall'])"
   ]
  },
  {
   "cell_type": "code",
   "execution_count": 46,
   "id": "e66f7231",
   "metadata": {},
   "outputs": [
    {
     "name": "stdout",
     "output_type": "stream",
     "text": [
      "1.45\n"
     ]
    }
   ],
   "source": [
    "quants['z_med_gcatlo'] = f\"{np.median(tab_gcatlo['redshift_spz']):.2f}\"\n",
    "print(quants['z_med_gcatlo'])"
   ]
  },
  {
   "cell_type": "code",
   "execution_count": 47,
   "id": "489513f6",
   "metadata": {},
   "outputs": [
    {
     "name": "stdout",
     "output_type": "stream",
     "text": [
      "76,804 10\n"
     ]
    }
   ],
   "source": [
    "zintermediate = 2.5\n",
    "quants['zintermediate'] = zintermediate\n",
    "i_above_zintermediate_gcatlo = tab_gcatlo['redshift_spz'] > zintermediate\n",
    "frac_above_zintermediate_gcatlo = np.sum(i_above_zintermediate_gcatlo)/len(i_above_zintermediate_gcatlo)\n",
    "quants['N_above_zintermediate_gcatlo'] = f'{np.sum(i_above_zintermediate_gcatlo):,}'\n",
    "quants['p_above_zintermediate_gcatlo'] = f'{100*frac_above_zintermediate_gcatlo:.0f}'\n",
    "print(quants['N_above_zintermediate_gcatlo'], quants['p_above_zintermediate_gcatlo'])"
   ]
  },
  {
   "cell_type": "markdown",
   "id": "375c66cd",
   "metadata": {},
   "source": [
    "### dz checks vs sdss"
   ]
  },
  {
   "cell_type": "code",
   "execution_count": 48,
   "id": "c1364cfc",
   "metadata": {},
   "outputs": [],
   "source": [
    "rand_ints_labeled = tab_spz_labeled['rand_ints']\n",
    "i_train, i_valid, i_test = utils.split_train_val_test(rand_ints_labeled,\n",
    "                                 frac_train=0.7, frac_val=0.15, frac_test=0.15)"
   ]
  },
  {
   "cell_type": "code",
   "execution_count": 49,
   "id": "fdf4fa7e",
   "metadata": {},
   "outputs": [],
   "source": [
    "z_sdss_test = tab_spz_labeled['z_sdss'][i_test]\n",
    "z_spzraw_test = tab_spz_labeled['redshift_spz_raw'][i_test]\n",
    "z_spz_test = tab_spz_labeled['redshift_spz'][i_test]\n",
    "z_gaia_test = tab_spz_labeled['redshift_qsoc'][i_test]"
   ]
  },
  {
   "cell_type": "code",
   "execution_count": 50,
   "id": "3b56c8b6",
   "metadata": {},
   "outputs": [],
   "source": [
    "dz_spzraw_test = (z_spzraw_test - z_sdss_test)/(1+z_sdss_test)\n",
    "dz_spz_test = (z_spz_test - z_sdss_test)/(1+z_sdss_test)\n",
    "dz_gaia_test = (z_gaia_test - z_sdss_test)/(1+z_sdss_test)"
   ]
  },
  {
   "cell_type": "code",
   "execution_count": 51,
   "id": "685ecf89",
   "metadata": {},
   "outputs": [],
   "source": [
    "dz_threshs = {'dzlo': 0.01, 'dzmid': 0.1, 'dzhi': 0.2}\n",
    "G_maxs = {'Gbright': 19.0, 'Glo': 20.0, 'Ghi': 20.5}\n",
    "dz_arrs = {'zspz': dz_spz_test, 'zgaia': dz_gaia_test}"
   ]
  },
  {
   "cell_type": "code",
   "execution_count": 52,
   "id": "4e5074a1",
   "metadata": {},
   "outputs": [],
   "source": [
    "# also save values to dict with full precision\n",
    "frac_outliers_dict = {}"
   ]
  },
  {
   "cell_type": "code",
   "execution_count": 53,
   "id": "3ca2b4e4",
   "metadata": {},
   "outputs": [
    {
     "name": "stdout",
     "output_type": "stream",
     "text": [
      "p_outliers_zspz_dzlo_Gbright 15\n",
      "p_acc_zspz_dzlo_Gbright 85\n",
      "p_outliers_zgaia_dzlo_Gbright 10\n",
      "p_acc_zgaia_dzlo_Gbright 90\n",
      "p_outliers_zspz_dzmid_Gbright 6\n",
      "p_acc_zspz_dzmid_Gbright 94\n",
      "p_outliers_zgaia_dzmid_Gbright 7\n",
      "p_acc_zgaia_dzmid_Gbright 93\n",
      "p_outliers_zspz_dzhi_Gbright 4\n",
      "p_acc_zspz_dzhi_Gbright 96\n",
      "p_outliers_zgaia_dzhi_Gbright 7\n",
      "p_acc_zgaia_dzhi_Gbright 93\n",
      "p_outliers_zspz_dzlo_Glo 27\n",
      "p_acc_zspz_dzlo_Glo 73\n",
      "p_outliers_zgaia_dzlo_Glo 25\n",
      "p_acc_zgaia_dzlo_Glo 75\n",
      "p_outliers_zspz_dzmid_Glo 10\n",
      "p_acc_zspz_dzmid_Glo 90\n",
      "p_outliers_zgaia_dzmid_Glo 19\n",
      "p_acc_zgaia_dzmid_Glo 81\n",
      "p_outliers_zspz_dzhi_Glo 6\n",
      "p_acc_zspz_dzhi_Glo 94\n",
      "p_outliers_zgaia_dzhi_Glo 18\n",
      "p_acc_zgaia_dzhi_Glo 82\n",
      "p_outliers_zspz_dzlo_Ghi 39\n",
      "p_acc_zspz_dzlo_Ghi 61\n",
      "p_outliers_zgaia_dzlo_Ghi 38\n",
      "p_acc_zgaia_dzlo_Ghi 62\n",
      "p_outliers_zspz_dzmid_Ghi 17\n",
      "p_acc_zspz_dzmid_Ghi 83\n",
      "p_outliers_zgaia_dzmid_Ghi 30\n",
      "p_acc_zgaia_dzmid_Ghi 70\n",
      "p_outliers_zspz_dzhi_Ghi 9\n",
      "p_acc_zspz_dzhi_Ghi 91\n",
      "p_outliers_zgaia_dzhi_Ghi 28\n",
      "p_acc_zgaia_dzhi_Ghi 72\n"
     ]
    }
   ],
   "source": [
    "for G_name, G_max in G_maxs.items():\n",
    "    quants[G_name] = G_max\n",
    "    for dz_thresh_name, dz_thresh in dz_threshs.items():\n",
    "        quants[dz_thresh_name] = dz_thresh\n",
    "        for z_name, dz_arr in dz_arrs.items():\n",
    "        \n",
    "            i_G = tab_spz_labeled['phot_g_mean_mag'][i_test] < G_max\n",
    "            i_outliers = np.abs(dz_arr[i_G]) > dz_thresh\n",
    "            key = f'p_outliers_{z_name}_{dz_thresh_name}_{G_name}'\n",
    "            frac = np.sum(i_outliers)/len(i_outliers)\n",
    "            val = f\"{100*frac:.0f}\"\n",
    "            print(key, val)\n",
    "            quants[key] = val\n",
    "            frac_outliers_dict[key] = frac\n",
    "\n",
    "            i_acc = np.abs(dz_arr[i_G]) <= dz_thresh\n",
    "            key = f'p_acc_{z_name}_{dz_thresh_name}_{G_name}'\n",
    "            frac = np.sum(i_acc)/len(i_acc)\n",
    "            val = f\"{100*frac:.0f}\"\n",
    "            print(key, val)\n",
    "            quants[key] = val"
   ]
  },
  {
   "cell_type": "markdown",
   "id": "c028fdb9",
   "metadata": {},
   "source": [
    "Get numbers for all Gaia candidates with SDSS redshifts:"
   ]
  },
  {
   "cell_type": "code",
   "execution_count": 54,
   "id": "01821844",
   "metadata": {},
   "outputs": [
    {
     "data": {
      "text/plain": [
       "<TableColumns names=('ra','dec','source_id','ra_sdss','dec_sdss','objid','z_sdss','phot_g_mean_mag','phot_bp_mean_mag','phot_rp_mean_mag','phot_bp_n_obs','phot_rp_n_obs','dec_unwise','mag_w1_vg','mag_w2_vg','ra_unwise','unwise_objid','dist_arcsec')>"
      ]
     },
     "execution_count": 54,
     "metadata": {},
     "output_type": "execute_result"
    }
   ],
   "source": [
    "tab_squasars.columns"
   ]
  },
  {
   "cell_type": "code",
   "execution_count": 55,
   "id": "b0e59037",
   "metadata": {},
   "outputs": [],
   "source": [
    "tab_squasars_lite = tab_squasars.copy()\n",
    "tab_squasars_lite.keep_columns(['source_id', 'z_sdss'])\n",
    "tab_gall_lite = tab_gall.copy()\n",
    "tab_gall_lite.keep_columns(['source_id', 'redshift_qsoc', 'phot_g_mean_mag', 'flags_qsoc'])"
   ]
  },
  {
   "cell_type": "code",
   "execution_count": 56,
   "id": "3035b365",
   "metadata": {},
   "outputs": [
    {
     "name": "stdout",
     "output_type": "stream",
     "text": [
      "326067\n"
     ]
    }
   ],
   "source": [
    "tab_gall_xsquasars = join(tab_gall_lite, tab_squasars_lite, keys='source_id', join_type='inner')\n",
    "print(len(tab_gall_xsquasars))"
   ]
  },
  {
   "cell_type": "code",
   "execution_count": 57,
   "id": "835eddbb",
   "metadata": {},
   "outputs": [
    {
     "name": "stdout",
     "output_type": "stream",
     "text": [
      "320149\n"
     ]
    }
   ],
   "source": [
    "tab_gall_xsquasars = tab_gall_xsquasars[np.isfinite(tab_gall_xsquasars['redshift_qsoc'])]\n",
    "print(len(tab_gall_xsquasars))"
   ]
  },
  {
   "cell_type": "code",
   "execution_count": 58,
   "id": "0b3ae4be",
   "metadata": {},
   "outputs": [],
   "source": [
    "z_sdss_gall = tab_gall_xsquasars['z_sdss']\n",
    "z_gaia_gall = tab_gall_xsquasars['redshift_qsoc']\n",
    "\n",
    "dz_gaia_gall = (z_gaia_gall - z_sdss_gall)/(1+z_sdss_gall)"
   ]
  },
  {
   "cell_type": "code",
   "execution_count": 59,
   "id": "97180794",
   "metadata": {},
   "outputs": [
    {
     "name": "stdout",
     "output_type": "stream",
     "text": [
      "p_outliers_gall_zgaia_dzlo_Gbright 9\n",
      "p_acc_gall_zgaia_dzlo_Gbright 91\n",
      "p_outliers_gall_zgaia_dzmid_Gbright 7\n",
      "p_acc_gall_zgaia_dzmid_Gbright 93\n",
      "p_outliers_gall_zgaia_dzhi_Gbright 6\n",
      "p_acc_gall_zgaia_dzhi_Gbright 94\n",
      "p_outliers_gall_zgaia_dzlo_Glo 25\n",
      "p_acc_gall_zgaia_dzlo_Glo 75\n",
      "p_outliers_gall_zgaia_dzmid_Glo 19\n",
      "p_acc_gall_zgaia_dzmid_Glo 81\n",
      "p_outliers_gall_zgaia_dzhi_Glo 18\n",
      "p_acc_gall_zgaia_dzhi_Glo 82\n",
      "p_outliers_gall_zgaia_dzlo_Ghi 38\n",
      "p_acc_gall_zgaia_dzlo_Ghi 62\n",
      "p_outliers_gall_zgaia_dzmid_Ghi 30\n",
      "p_acc_gall_zgaia_dzmid_Ghi 70\n",
      "p_outliers_gall_zgaia_dzhi_Ghi 28\n",
      "p_acc_gall_zgaia_dzhi_Ghi 72\n"
     ]
    }
   ],
   "source": [
    "z_name = 'zgaia'\n",
    "for G_name, G_max in G_maxs.items():\n",
    "    for dz_thresh_name, dz_thresh in dz_threshs.items():\n",
    "        \n",
    "        i_G = tab_gall_xsquasars['phot_g_mean_mag'] < G_max\n",
    "        i_outliers = np.abs(dz_gaia_gall[i_G]) > dz_thresh\n",
    "        key = f'p_outliers_gall_{z_name}_{dz_thresh_name}_{G_name}'\n",
    "        frac = np.sum(i_outliers)/len(i_outliers)\n",
    "        val = f\"{100*frac:.0f}\"\n",
    "        print(key, val)\n",
    "        quants[key] = val \n",
    "        frac_outliers_dict[key] = frac\n",
    "\n",
    "        i_acc = np.abs(dz_gaia_gall[i_G]) <= dz_thresh\n",
    "        key = f'p_acc_gall_{z_name}_{dz_thresh_name}_{G_name}'\n",
    "        frac = np.sum(i_acc)/len(i_acc)\n",
    "        val = f\"{100*frac:.0f}\"\n",
    "        print(key, val)\n",
    "        quants[key] = val"
   ]
  },
  {
   "cell_type": "markdown",
   "id": "64a8de59",
   "metadata": {},
   "source": [
    "Ends up being the same as our cleaned sample lol oop (rounded to a percent)"
   ]
  },
  {
   "cell_type": "code",
   "execution_count": 60,
   "id": "85add8f4",
   "metadata": {},
   "outputs": [
    {
     "name": "stdout",
     "output_type": "stream",
     "text": [
      "0.9334183980787354\n",
      "factor_reduction_outliers_dzlo_Glo : ${\\sim}1\\times$\n",
      "1.8206339547196377\n",
      "factor_reduction_outliers_dzmid_Glo : ${\\sim}2\\times$\n",
      "3.051113068194445\n",
      "factor_reduction_outliers_dzhi_Glo : ${\\sim}3\\times$\n",
      "0.9713798263548138\n",
      "factor_reduction_outliers_dzlo_Ghi : ${\\sim}1\\times$\n",
      "1.783354861845533\n",
      "factor_reduction_outliers_dzmid_Ghi : ${\\sim}2\\times$\n",
      "3.1889830596917235\n",
      "factor_reduction_outliers_dzhi_Ghi : ${\\sim}3\\times$\n"
     ]
    }
   ],
   "source": [
    "G_names = ['Glo', 'Ghi']\n",
    "for G_name in G_names:\n",
    "    for dz_thresh_name, dz_thresh in dz_threshs.items():\n",
    "        factor = frac_outliers_dict[f'p_outliers_gall_zgaia_{dz_thresh_name}_{G_name}']/ \\\n",
    "                 frac_outliers_dict[f'p_outliers_zspz_{dz_thresh_name}_{G_name}']\n",
    "        key = f'factor_reduction_outliers_{dz_thresh_name}_{G_name}'\n",
    "        factor_rounded = round(factor*2)/2\n",
    "        val = rf'${{\\sim}}{factor_rounded:g}\\times$'\n",
    "        print(factor)\n",
    "        print(key,':', val)\n",
    "        quants[key] = val"
   ]
  },
  {
   "cell_type": "markdown",
   "id": "1897a5c7",
   "metadata": {},
   "source": [
    "For all magnitudes, and sub-split for those with reliable redshifts:"
   ]
  },
  {
   "cell_type": "code",
   "execution_count": 61,
   "id": "8dcca364",
   "metadata": {},
   "outputs": [
    {
     "name": "stdout",
     "output_type": "stream",
     "text": [
      "1302677 6649162 0.1959159665533792\n"
     ]
    }
   ],
   "source": [
    "idx_reliable_gall = (tab_gall['flags_qsoc']==0) | (tab_gall['flags_qsoc']==16) \n",
    "print(np.sum(idx_reliable_gall), len(idx_reliable_gall), np.sum(idx_reliable_gall)/len(idx_reliable_gall))"
   ]
  },
  {
   "cell_type": "code",
   "execution_count": 62,
   "id": "bce69e2b",
   "metadata": {},
   "outputs": [
    {
     "name": "stdout",
     "output_type": "stream",
     "text": [
      "20\n"
     ]
    }
   ],
   "source": [
    "quants['p_zreliable_gall'] = f'{100*np.sum(idx_reliable_gall)/len(idx_reliable_gall):.0f}'\n",
    "print(quants['p_zreliable_gall'])"
   ]
  },
  {
   "cell_type": "code",
   "execution_count": 63,
   "id": "30aadee2",
   "metadata": {},
   "outputs": [
    {
     "name": "stdout",
     "output_type": "stream",
     "text": [
      "115901 320149 0.3620220584790207\n"
     ]
    }
   ],
   "source": [
    "idx_reliable = (tab_gall_xsquasars['flags_qsoc']==0) | (tab_gall_xsquasars['flags_qsoc']==16) \n",
    "print(np.sum(idx_reliable), len(idx_reliable), np.sum(idx_reliable)/len(idx_reliable))"
   ]
  },
  {
   "cell_type": "code",
   "execution_count": 64,
   "id": "2b0e09a5",
   "metadata": {},
   "outputs": [
    {
     "name": "stdout",
     "output_type": "stream",
     "text": [
      "p_acc_gall_zgaia_dzlo 53\n",
      "p_acc_gall_zreliable_zgaia_dzlo 86\n",
      "p_acc_gall_zgaia_dzmid 62\n",
      "p_acc_gall_zreliable_zgaia_dzmid 91\n",
      "p_acc_gall_zgaia_dzhi 65\n",
      "p_acc_gall_zreliable_zgaia_dzhi 92\n"
     ]
    }
   ],
   "source": [
    "for dz_thresh_name, dz_thresh in dz_threshs.items():\n",
    "       \n",
    "    i_acc = np.abs(dz_gaia_gall) <= dz_thresh\n",
    "    key = f'p_acc_gall_{z_name}_{dz_thresh_name}'\n",
    "    val = f\"{100*np.sum(i_acc)/len(i_acc):.0f}\"\n",
    "    print(key, val)\n",
    "    quants[key] = val\n",
    "    \n",
    "    i_acc = np.abs(dz_gaia_gall[idx_reliable]) <= dz_thresh\n",
    "    key = f'p_acc_gall_zreliable_{z_name}_{dz_thresh_name}'\n",
    "    val = f\"{100*np.sum(i_acc)/len(i_acc):.0f}\"\n",
    "    print(key, val)\n",
    "    quants[key] = val"
   ]
  },
  {
   "cell_type": "markdown",
   "id": "a727d51c",
   "metadata": {},
   "source": [
    "### Decontamination"
   ]
  },
  {
   "cell_type": "code",
   "execution_count": 65,
   "id": "7a4e90cf",
   "metadata": {},
   "outputs": [
    {
     "name": "stdout",
     "output_type": "stream",
     "text": [
      "39470\n",
      "0.025987929801643685\n",
      "p_removed_pmcut 2.6\n"
     ]
    }
   ],
   "source": [
    "i_makes_pmcut = utils.cut_pm_G(tab_gsup)\n",
    "quants['N_removed_pmcut'] = np.sum(~i_makes_pmcut)\n",
    "print(quants['N_removed_pmcut'])\n",
    "frac_removed_pmcut = np.sum(~i_makes_pmcut)/len(i_makes_pmcut)\n",
    "print(frac_removed_pmcut)\n",
    "key = 'p_removed_pmcut'\n",
    "val = f'{frac_removed_pmcut*100:.1f}'\n",
    "print(key, val)\n",
    "quants[key] = val"
   ]
  },
  {
   "cell_type": "code",
   "execution_count": 66,
   "id": "37417654",
   "metadata": {},
   "outputs": [],
   "source": [
    "_, _, i_test = utils.split_train_val_test(tab_labeled_sup['rand_ints'], frac_train=0.7, frac_test=0.3, frac_val=0)"
   ]
  },
  {
   "cell_type": "code",
   "execution_count": 67,
   "id": "060cd80f",
   "metadata": {},
   "outputs": [
    {
     "name": "stdout",
     "output_type": "stream",
     "text": [
      "1119\n",
      "264\n",
      "4.238636363636363\n"
     ]
    }
   ],
   "source": [
    "i_contam_labeled = (tab_labeled_sup['class'][i_test]=='s') | (tab_labeled_sup['class'][i_test]=='g')\n",
    "print(np.sum(i_contam_labeled))\n",
    "\n",
    "i_contam_gclean = np.isin(tab_labeled_sup['source_id'][i_test][i_contam_labeled], tab_gclean['source_id'])\n",
    "print(np.sum(i_contam_gclean))\n",
    "print(np.sum(i_contam_labeled)/np.sum(i_contam_gclean))"
   ]
  },
  {
   "cell_type": "code",
   "execution_count": 68,
   "id": "2823ed66",
   "metadata": {},
   "outputs": [
    {
     "name": "stdout",
     "output_type": "stream",
     "text": [
      "4.238636363636363\n",
      "factor_reduction_contaminants ${\\sim}4\\times$\n"
     ]
    }
   ],
   "source": [
    "key = 'factor_reduction_contaminants'\n",
    "fac = np.sum(i_contam_labeled)/np.sum(i_contam_gclean)\n",
    "fac_rounded = round(fac*2)/2\n",
    "val = rf'${{\\sim}}{fac_rounded:g}\\times$'\n",
    "print(fac)\n",
    "print(key, val)\n",
    "quants[key] = val"
   ]
  },
  {
   "cell_type": "code",
   "execution_count": 69,
   "id": "d45b23d0",
   "metadata": {},
   "outputs": [
    {
     "name": "stdout",
     "output_type": "stream",
     "text": [
      "246122\n",
      "243206\n"
     ]
    }
   ],
   "source": [
    "i_q_labeled = tab_labeled_sup['class']=='q'\n",
    "print(np.sum(i_q_labeled))\n",
    "\n",
    "i_q_gclean = np.isin(tab_labeled_sup['source_id'][i_q_labeled], tab_gclean['source_id'])\n",
    "print(np.sum(i_q_gclean))"
   ]
  },
  {
   "cell_type": "code",
   "execution_count": 70,
   "id": "afdc60b2",
   "metadata": {},
   "outputs": [
    {
     "name": "stdout",
     "output_type": "stream",
     "text": [
      "0.011989835777077795\n",
      "p_sqall_excluded_clean 1.2\n"
     ]
    }
   ],
   "source": [
    "key = 'p_sqall_excluded_clean'\n",
    "p = np.sum(i_q_labeled)/np.sum(i_q_gclean)-1\n",
    "print(p)\n",
    "val = f'{p*100:.1f}'\n",
    "print(key, val)\n",
    "quants[key] = val"
   ]
  },
  {
   "cell_type": "markdown",
   "id": "a0b14eaf",
   "metadata": {},
   "source": [
    "### Area and volume"
   ]
  },
  {
   "cell_type": "code",
   "execution_count": 71,
   "id": "5eabfb75",
   "metadata": {},
   "outputs": [],
   "source": [
    "def v_shells_of_z(z_arr, z_bins, fsky, cosmo):\n",
    "    \n",
    "    v_at_z_bins = np.empty(len(z_bins), dtype=u.Quantity)\n",
    "    for i in range(len(z_bins)):\n",
    "        v = cosmo.comoving_volume(z_bins[i])\n",
    "        v_at_z_bins[i] = v.to(u.Gpc**3)\n",
    "    v_at_z_bins *= fsky\n",
    "    v_shells = v_at_z_bins[1:] - v_at_z_bins[:-1] \n",
    "\n",
    "    return np.array(v_shells)"
   ]
  },
  {
   "cell_type": "code",
   "execution_count": 72,
   "id": "6857bed5",
   "metadata": {},
   "outputs": [],
   "source": [
    "def ndens_of_z(z_arr, z_bins, fsky, cosmo):\n",
    "    \n",
    "    v_shells = v_shells_of_z(z_arr, z_bins, fsky, cosmo)\n",
    "    ndens = []\n",
    "    for i in range(len(z_bins)-1):\n",
    "        N_inbin = np.sum((z_arr >= z_bins[i]) & (z_arr < z_bins[i+1]))\n",
    "        ndens_inbin = N_inbin/v_shells[i]\n",
    "        ndens.append(ndens_inbin)\n",
    "    return ndens"
   ]
  },
  {
   "cell_type": "code",
   "execution_count": 73,
   "id": "332dbb70",
   "metadata": {},
   "outputs": [],
   "source": [
    "# eqn 1.7.32 of https://arxiv.org/pdf/1606.00180.pdf\n",
    "def volume_effective_Gpcperh(z_arr, z_bins, cosmo, fsky, P0):\n",
    "    \n",
    "    ndens_at_z_bins = ndens_of_z(z_arr, z_bins, fsky, cosmo)\n",
    "    ndens_at_z_bins = np.array(ndens_at_z_bins, dtype=u.Quantity)\n",
    "\n",
    "    nPs = np.array([n*P0 for n in ndens_at_z_bins])\n",
    "    prefacs = (nPs /(1 + nPs))**2\n",
    "    v_shells = v_shells_of_z(z_arr, z_bins, fsky, cosmo)    \n",
    "    v_Gpc = np.sum(prefacs*v_shells)\n",
    "\n",
    "    v_Gpc = v_Gpc.to(u.Gpc**3) # this should be just in Gpc\n",
    "    v_Gpcperh = v_Gpc * cosmo.h**3 # (Gpc) -> (Gpc/h)^3, mult by h^3 \n",
    "    print(f\"Sky fraction is {fsky:.3f}\")\n",
    "    print(f\"Effective volume is {v_Gpc:.3f} = {v_Gpcperh.value:.3f} (Gpc/h)^3\")\n",
    "    return v_Gpcperh.value"
   ]
  },
  {
   "cell_type": "code",
   "execution_count": 74,
   "id": "cb9b5fec",
   "metadata": {},
   "outputs": [],
   "source": [
    "cosmo = Planck18\n",
    "area_allsky = 41252.96125*(u.deg**2)"
   ]
  },
  {
   "cell_type": "markdown",
   "id": "7b878841",
   "metadata": {},
   "source": [
    "TODO: estimating p0 now, what should be doing?"
   ]
  },
  {
   "cell_type": "code",
   "execution_count": 75,
   "id": "94c6cdee",
   "metadata": {},
   "outputs": [
    {
     "name": "stdout",
     "output_type": "stream",
     "text": [
      "Dustmap already exists, loading from ../data/maps/map_dust_NSIDE64.npy\n"
     ]
    }
   ],
   "source": [
    "fn_dustmap = f'../data/maps/map_dust_NSIDE{NSIDE}.npy'\n",
    "map_dust = maps.get_dust_map(NSIDE=NSIDE, R=3.1, fn_map=fn_dustmap)"
   ]
  },
  {
   "cell_type": "markdown",
   "id": "b5262c38",
   "metadata": {},
   "source": [
    "Gaia:"
   ]
  },
  {
   "cell_type": "code",
   "execution_count": 76,
   "id": "2c12b603",
   "metadata": {},
   "outputs": [
    {
     "name": "stdout",
     "output_type": "stream",
     "text": [
      "29154.54 deg$^2$\n"
     ]
    }
   ],
   "source": [
    "Av_hi = 0.5\n",
    "npix_below_Avhi = np.sum(map_dust < Av_hi)\n",
    "area_below_Avhi = area_per_pixel*u.deg**2 * npix_below_Avhi\n",
    "quants['Avhi'] = Av_hi\n",
    "area_below_Avhi_fmt = rf'{area_below_Avhi.value:.2f} deg$^2$'\n",
    "quants['area_below_Avhi'] = area_below_Avhi_fmt\n",
    "print(quants['area_below_Avhi'])"
   ]
  },
  {
   "cell_type": "code",
   "execution_count": 77,
   "id": "3a6a6add",
   "metadata": {},
   "outputs": [
    {
     "name": "stdout",
     "output_type": "stream",
     "text": [
      "0.71\n"
     ]
    }
   ],
   "source": [
    "fsky_below_Avhi = area_below_Avhi/area_allsky\n",
    "quants['fsky_below_Avhi'] = f'{fsky_below_Avhi:.2f}'\n",
    "print(quants['fsky_below_Avhi'])"
   ]
  },
  {
   "cell_type": "code",
   "execution_count": 78,
   "id": "5b2ca801",
   "metadata": {},
   "outputs": [
    {
     "name": "stdout",
     "output_type": "stream",
     "text": [
      "Sky fraction is 0.707\n",
      "Effective volume is 10.598 Gpc3 = 3.283 (Gpc/h)^3\n",
      "3.28 $(h^{-1}\\,Gpc)^3$\n"
     ]
    }
   ],
   "source": [
    "z_arr = tab_gcatlo['redshift_spz']\n",
    "z_min, z_max = np.min(z_arr), np.max(z_arr)\n",
    "z_bins = np.arange(0, z_max+0.1, 0.1)\n",
    "P0 = 4e4 * u.Mpc**3 / cosmo.h**3 \n",
    "#P0 = P0.to(u.Gpc**3)\n",
    "#print(P0)\n",
    "vol_gcatlo = volume_effective_Gpcperh(z_arr, z_bins, cosmo, fsky_below_Avhi, P0)\n",
    "vol_gcatlo_fmt = rf'{vol_gcatlo:.2f} $(h^{{-1}}\\,Gpc)^3$'\n",
    "quants['volume_effective_gcatlo_below_Avhi'] = vol_gcatlo_fmt\n",
    "print(quants['volume_effective_gcatlo_below_Avhi'])"
   ]
  },
  {
   "cell_type": "code",
   "execution_count": 79,
   "id": "c760c27a",
   "metadata": {},
   "outputs": [
    {
     "name": "stdout",
     "output_type": "stream",
     "text": [
      "Sky fraction is 0.707\n",
      "Effective volume is 25.356 Gpc3 = 7.854 (Gpc/h)^3\n",
      "7.85 $(h^{-1}\\,Gpc)^3$\n"
     ]
    }
   ],
   "source": [
    "z_arr = tab_gcathi['redshift_spz']\n",
    "z_min, z_max = np.min(z_arr), np.max(z_arr)\n",
    "z_bins = np.arange(0, z_max+0.1, 0.1)\n",
    "P0 = 4e4 * u.Mpc**3 / cosmo.h**3 \n",
    "#P0 = P0.to(u.Gpc**3)\n",
    "#print(P0)\n",
    "vol_gcathi = volume_effective_Gpcperh(z_arr, z_bins, cosmo, fsky_below_Avhi, P0)\n",
    "vol_gcathi_fmt = rf'{vol_gcathi:.2f} $(h^{{-1}}\\,Gpc)^3$'\n",
    "quants['volume_effective_gcathi_below_Avhi'] = vol_gcathi_fmt\n",
    "print(quants['volume_effective_gcathi_below_Avhi'])"
   ]
  },
  {
   "cell_type": "markdown",
   "id": "edd3f4d4",
   "metadata": {},
   "source": [
    "SDSS:"
   ]
  },
  {
   "cell_type": "code",
   "execution_count": 80,
   "id": "f0fc7726",
   "metadata": {},
   "outputs": [],
   "source": [
    "# area via: # https://academic.oup.com/mnras/article/514/3/3396/6566355?login=true\n",
    "area_sdss = 4808*(u.deg**2)"
   ]
  },
  {
   "cell_type": "code",
   "execution_count": 81,
   "id": "e8d6321e",
   "metadata": {},
   "outputs": [
    {
     "name": "stdout",
     "output_type": "stream",
     "text": [
      "4808 deg$^2$\n"
     ]
    }
   ],
   "source": [
    "area_sdss_fmt = rf'{area_sdss.value:g} deg$^2$'\n",
    "quants['area_sdss'] = area_sdss_fmt\n",
    "print(quants['area_sdss'])"
   ]
  },
  {
   "cell_type": "code",
   "execution_count": 82,
   "id": "e0a32a91",
   "metadata": {},
   "outputs": [
    {
     "name": "stdout",
     "output_type": "stream",
     "text": [
      "0.12\n"
     ]
    }
   ],
   "source": [
    "fsky_sdss = area_sdss/area_allsky\n",
    "quants['fsky_sdss'] = f'{fsky_sdss:.2f}'\n",
    "print(quants['fsky_sdss'])"
   ]
  },
  {
   "cell_type": "code",
   "execution_count": 83,
   "id": "03a46bb6",
   "metadata": {},
   "outputs": [],
   "source": [
    "z_arr = tab_sqall['z_sdss']\n",
    "z_min, z_max = np.min(z_arr), np.max(z_arr)\n",
    "z_bins = np.arange(0, z_max+0.1, 0.1)"
   ]
  },
  {
   "cell_type": "code",
   "execution_count": 84,
   "id": "fcefd7fd",
   "metadata": {},
   "outputs": [
    {
     "name": "stdout",
     "output_type": "stream",
     "text": [
      "Sky fraction is 0.117\n",
      "Effective volume is 18.456 Gpc3 = 5.717 (Gpc/h)^3\n",
      "5.72 $(h^{-1}\\,Gpc)^3$\n"
     ]
    }
   ],
   "source": [
    "z_arr = tab_sqall['z_sdss']\n",
    "z_min, z_max = np.min(z_arr), np.max(z_arr)\n",
    "z_bins = np.arange(0, z_max+0.1, 0.1)\n",
    "P0 = 4e4 * u.Mpc**3 / cosmo.h**3 \n",
    "vol_sdss = volume_effective_Gpcperh(z_arr, z_bins, cosmo, fsky_sdss, P0)\n",
    "vol_sdss_fmt = rf'{vol_sdss:.2f} $(h^{{-1}}\\,Gpc)^3$'\n",
    "quants['volume_effective_sdss'] = vol_sdss_fmt\n",
    "print(quants['volume_effective_sdss'])"
   ]
  },
  {
   "cell_type": "markdown",
   "id": "27f70e3b",
   "metadata": {},
   "source": [
    "Gaia vs SDSS"
   ]
  },
  {
   "cell_type": "code",
   "execution_count": 85,
   "id": "0802177c",
   "metadata": {},
   "outputs": [
    {
     "name": "stdout",
     "output_type": "stream",
     "text": [
      "${\\sim}6\\times$\n"
     ]
    }
   ],
   "source": [
    "fac_area = area_below_Avhi/area_sdss\n",
    "fac_area_rounded = round(fac_area.value*2)/2\n",
    "val = rf'${{\\sim}}{fac_area_rounded:g}\\times$'\n",
    "quants['factor_area_belowAvhi_sdss'] = val\n",
    "print(quants['factor_area_belowAvhi_sdss'])"
   ]
  },
  {
   "cell_type": "code",
   "execution_count": 86,
   "id": "21c0a6c0",
   "metadata": {},
   "outputs": [
    {
     "name": "stdout",
     "output_type": "stream",
     "text": [
      "${\\sim}1.4\\times$\n"
     ]
    }
   ],
   "source": [
    "fac_vol = vol_gcathi/vol_sdss\n",
    "val = rf'${{\\sim}}{fac_vol:.1f}\\times$'\n",
    "quants['factor_volume_effective_gcathi_sdss'] = val\n",
    "print(quants['factor_volume_effective_gcathi_sdss'])"
   ]
  },
  {
   "cell_type": "markdown",
   "id": "045a8c14",
   "metadata": {},
   "source": [
    "eBOSS"
   ]
  },
  {
   "cell_type": "code",
   "execution_count": 87,
   "id": "1843d3fe",
   "metadata": {},
   "outputs": [],
   "source": [
    "# area via: # https://academic.oup.com/mnras/article/514/3/3396/6566355?login=true\n",
    "area_eboss = 4808*(u.deg**2)"
   ]
  },
  {
   "cell_type": "code",
   "execution_count": 88,
   "id": "1fc78ffc",
   "metadata": {},
   "outputs": [
    {
     "name": "stdout",
     "output_type": "stream",
     "text": [
      "4808 deg$^2$\n"
     ]
    }
   ],
   "source": [
    "area_eboss_fmt = rf'{area_eboss.value:g} deg$^2$'\n",
    "quants['area_eboss'] = area_eboss_fmt\n",
    "print(quants['area_eboss'])"
   ]
  },
  {
   "cell_type": "code",
   "execution_count": 89,
   "id": "557d5623",
   "metadata": {},
   "outputs": [
    {
     "name": "stdout",
     "output_type": "stream",
     "text": [
      "0.12\n"
     ]
    }
   ],
   "source": [
    "fsky_eboss = area_eboss/area_allsky\n",
    "quants['fsky_eboss'] = f'{fsky_eboss:.2f}'\n",
    "print(quants['fsky_eboss'])"
   ]
  },
  {
   "cell_type": "code",
   "execution_count": 90,
   "id": "2360657c",
   "metadata": {},
   "outputs": [],
   "source": [
    "z_arr = tab_eboss['Z']\n",
    "z_min, z_max = np.min(z_arr), np.max(z_arr)\n",
    "z_bins = np.arange(0, z_max+0.1, 0.1)"
   ]
  },
  {
   "cell_type": "code",
   "execution_count": 91,
   "id": "edc32488",
   "metadata": {},
   "outputs": [
    {
     "name": "stdout",
     "output_type": "stream",
     "text": [
      "Sky fraction is 0.117\n",
      "Effective volume is 11.016 Gpc3 = 3.412 (Gpc/h)^3\n",
      "3.41 $(h^{-1}\\,Gpc)^3$\n"
     ]
    }
   ],
   "source": [
    "P0 = 4e4 * u.Mpc**3 / cosmo.h**3 \n",
    "vol_eboss = volume_effective_Gpcperh(z_arr, z_bins, cosmo, fsky_eboss, P0)\n",
    "vol_eboss_fmt = rf'{vol_eboss:.2f} $(h^{{-1}}\\,Gpc)^3$'\n",
    "quants['volume_effective_eboss'] = vol_eboss_fmt\n",
    "print(quants['volume_effective_eboss'])"
   ]
  },
  {
   "cell_type": "markdown",
   "id": "1d9fadee",
   "metadata": {},
   "source": [
    "Gaia vs eBOSS"
   ]
  },
  {
   "cell_type": "code",
   "execution_count": 92,
   "id": "8de22c23",
   "metadata": {},
   "outputs": [
    {
     "name": "stdout",
     "output_type": "stream",
     "text": [
      "${\\sim}6\\times$\n"
     ]
    }
   ],
   "source": [
    "fac_area = area_below_Avhi/area_eboss\n",
    "fac_area_rounded = round(fac_area.value*2)/2\n",
    "val = rf'${{\\sim}}{fac_area_rounded:g}\\times$'\n",
    "quants['factor_area_belowAvhi_eboss'] = val\n",
    "print(quants['factor_area_belowAvhi_eboss'])"
   ]
  },
  {
   "cell_type": "code",
   "execution_count": 93,
   "id": "d14fd4cd",
   "metadata": {},
   "outputs": [
    {
     "name": "stdout",
     "output_type": "stream",
     "text": [
      "${\\sim}1.4\\times$\n"
     ]
    }
   ],
   "source": [
    "fac_vol = vol_gcathi/vol_sdss\n",
    "val = rf'${{\\sim}}{fac_vol:.1f}\\times$'\n",
    "quants['factor_volume_effective_gcathi_eboss'] = val\n",
    "print(quants['factor_volume_effective_gcathi_eboss'])"
   ]
  },
  {
   "cell_type": "markdown",
   "id": "169b5b8a",
   "metadata": {},
   "source": [
    "## Selection function / residuals"
   ]
  },
  {
   "cell_type": "code",
   "execution_count": 94,
   "id": "e0afae39",
   "metadata": {},
   "outputs": [
    {
     "name": "stdout",
     "output_type": "stream",
     "text": [
      "0.26\n"
     ]
    }
   ],
   "source": [
    "#fn_rand_Glo = f'../data/randoms/randomQ_stardustm10mcs_NSIDE64_G{G_lo}_10x.fits'\n",
    "fn_rand_Glo = f'../data/randoms/random_G{G_lo}_10x.fits'\n",
    "\n",
    "tab_rand_Glo = Table.read(fn_rand_Glo)\n",
    "map_rand_Glo = get_ndens_map(tab_rand_Glo['ra'], tab_rand_Glo['dec'])\n",
    "\n",
    "map_gcatlo = get_ndens_map(tab_gcatlo['ra'], tab_gcatlo['dec'])\n",
    "\n",
    "norm_factor = len(tab_gcatlo)/len(tab_rand_Glo)\n",
    "\n",
    "rmse_frac = utils.compute_rmse(norm_factor*map_rand_Glo, map_gcatlo, fractional=True)\n",
    "quants['rmse_fractional_residuals_Glo'] = f'{rmse_frac:.2f}'\n",
    "print(quants['rmse_fractional_residuals_Glo'])"
   ]
  },
  {
   "cell_type": "markdown",
   "id": "50d8c3f7",
   "metadata": {},
   "source": [
    "TODO: run when get sel func for G20.5"
   ]
  },
  {
   "cell_type": "code",
   "execution_count": 95,
   "id": "3cf900b7",
   "metadata": {
    "scrolled": true
   },
   "outputs": [
    {
     "name": "stdout",
     "output_type": "stream",
     "text": [
      "0.28\n"
     ]
    }
   ],
   "source": [
    "# fn_rand_Ghi = f'../data/randoms/randomQ_stardustm10mcs_NSIDE64_G{G_hi}_10x.fits'\n",
    "fn_rand_Ghi = f'../data/randoms/random_G{G_hi}_10x.fits'\n",
    "\n",
    "tab_rand_Ghi = Table.read(fn_rand_Ghi)\n",
    "map_rand_Ghi = get_ndens_map(tab_rand_Ghi['ra'], tab_rand_Ghi['dec'])\n",
    "\n",
    "map_gcathi = get_ndens_map(tab_gcathi['ra'], tab_gcathi['dec'])\n",
    "\n",
    "norm_factor = len(tab_gcathi)/len(tab_rand_Ghi)\n",
    "\n",
    "rmse_frac = utils.compute_rmse(norm_factor*map_rand_Ghi, map_gcathi, fractional=True)\n",
    "quants['rmse_fractional_residuals_Ghi'] = f'{rmse_frac:.2f}'\n",
    "print(quants['rmse_fractional_residuals_Ghi'])"
   ]
  },
  {
   "cell_type": "code",
   "execution_count": 96,
   "id": "3e33e04b",
   "metadata": {},
   "outputs": [],
   "source": [
    "tag_decontam = '_mag0.1_lm5_postpm'\n",
    "fn_cuts = f'../data/color_cuts{tag_decontam}.txt'\n",
    "cuts = np.genfromtxt(fn_cuts, delimiter=',', names=True)\n",
    "cut_names = list(cuts.dtype.names)"
   ]
  },
  {
   "cell_type": "code",
   "execution_count": 97,
   "id": "32fbdc74",
   "metadata": {},
   "outputs": [],
   "source": [
    "color_label_dict = {'g_w1': 'G-W1', \n",
    "                    'w1_w2': 'W1-W2',\n",
    "                    'bp_g': 'BP-G'}"
   ]
  },
  {
   "cell_type": "code",
   "execution_count": 98,
   "id": "b9c457d6",
   "metadata": {},
   "outputs": [],
   "source": [
    "color_names = list(cut_names.copy())\n",
    "color_names.remove('intercept')"
   ]
  },
  {
   "cell_type": "code",
   "execution_count": 99,
   "id": "a80de906",
   "metadata": {},
   "outputs": [],
   "source": [
    "N_colors = len(color_names)\n",
    "tol = 1e-8\n",
    "cut_strs = []\n",
    "for cut in cuts:\n",
    "    cut_terms = []\n",
    "    for cn in color_names:\n",
    "        i = cut_names.index(cn)\n",
    "        if abs(cut[i])<tol:\n",
    "            continue\n",
    "        if abs(cut[i]-1.0)<tol:\n",
    "            cut_terms.append(f'({color_label_dict[cn]})')\n",
    "        else:\n",
    "            cut_terms.append(f'{cut[i]}\\,({color_label_dict[cn]})')\n",
    "    i_intercept = cut_names.index('intercept')\n",
    "    # & symbols are for equation alignment\n",
    "    cut_str = ' + '.join(cut_terms) + f' &> {cut[i_intercept]:g}'\n",
    "    cut_strs.append(cut_str)"
   ]
  },
  {
   "cell_type": "code",
   "execution_count": 100,
   "id": "87bf5708",
   "metadata": {},
   "outputs": [
    {
     "name": "stdout",
     "output_type": "stream",
     "text": [
      "(G-W1) &> 2.15 \\\\ (W1-W2) &> 0.4 \\\\ (BP-G) &> -0.3 \\\\ (G-W1) + 1.2\\,(W1-W2) &> 3.4\n"
     ]
    }
   ],
   "source": [
    "quants['color_cut_str'] = ' \\\\\\\\ '.join(cut_strs)\n",
    "print(quants['color_cut_str'])"
   ]
  },
  {
   "cell_type": "markdown",
   "id": "a85e15e8",
   "metadata": {},
   "source": [
    "## Write dict to file"
   ]
  },
  {
   "cell_type": "code",
   "execution_count": 101,
   "id": "32319596",
   "metadata": {},
   "outputs": [
    {
     "name": "stdout",
     "output_type": "stream",
     "text": [
      "N_gall 6,649,162\n",
      "N_gall_wqsoc 6,375,063\n",
      "N_gpurer 1,942,825\n",
      "N_gpurer_wqsoc 1,729,625\n",
      "N_gsup 1,518,782\n",
      "N_gclean 1,414,385\n",
      "p_cut_gsup_gclean 7\n",
      "N_gcatlo 755,850\n",
      "N_gcathi 1,295,502\n",
      "N_squasars_unwise 343,074\n",
      "N_squasars_sup 246,122\n",
      "N_sqall 638,083\n",
      "N_sqclean 243,206\n",
      "N_eboss 409,341\n",
      "N_sgals_unwise 600,897\n",
      "N_sgals_sup 1,316\n",
      "N_stars_unwise 482,080\n",
      "N_sstars_sup 2,276\n",
      "N_mcs_unwise 11,770\n",
      "N_mcs_sup 9,927\n",
      "z_med_gall 1.67\n",
      "z_med_gcatlo 1.45\n",
      "zintermediate 2.5\n",
      "N_above_zintermediate_gcatlo 76,804\n",
      "p_above_zintermediate_gcatlo 10\n",
      "Gbright 19.0\n",
      "dzlo 0.01\n",
      "p_outliers_zspz_dzlo_Gbright 15\n",
      "p_acc_zspz_dzlo_Gbright 85\n",
      "p_outliers_zgaia_dzlo_Gbright 10\n",
      "p_acc_zgaia_dzlo_Gbright 90\n",
      "dzmid 0.1\n",
      "p_outliers_zspz_dzmid_Gbright 6\n",
      "p_acc_zspz_dzmid_Gbright 94\n",
      "p_outliers_zgaia_dzmid_Gbright 7\n",
      "p_acc_zgaia_dzmid_Gbright 93\n",
      "dzhi 0.2\n",
      "p_outliers_zspz_dzhi_Gbright 4\n",
      "p_acc_zspz_dzhi_Gbright 96\n",
      "p_outliers_zgaia_dzhi_Gbright 7\n",
      "p_acc_zgaia_dzhi_Gbright 93\n",
      "Glo 20.0\n",
      "p_outliers_zspz_dzlo_Glo 27\n",
      "p_acc_zspz_dzlo_Glo 73\n",
      "p_outliers_zgaia_dzlo_Glo 25\n",
      "p_acc_zgaia_dzlo_Glo 75\n",
      "p_outliers_zspz_dzmid_Glo 10\n",
      "p_acc_zspz_dzmid_Glo 90\n",
      "p_outliers_zgaia_dzmid_Glo 19\n",
      "p_acc_zgaia_dzmid_Glo 81\n",
      "p_outliers_zspz_dzhi_Glo 6\n",
      "p_acc_zspz_dzhi_Glo 94\n",
      "p_outliers_zgaia_dzhi_Glo 18\n",
      "p_acc_zgaia_dzhi_Glo 82\n",
      "Ghi 20.5\n",
      "p_outliers_zspz_dzlo_Ghi 39\n",
      "p_acc_zspz_dzlo_Ghi 61\n",
      "p_outliers_zgaia_dzlo_Ghi 38\n",
      "p_acc_zgaia_dzlo_Ghi 62\n",
      "p_outliers_zspz_dzmid_Ghi 17\n",
      "p_acc_zspz_dzmid_Ghi 83\n",
      "p_outliers_zgaia_dzmid_Ghi 30\n",
      "p_acc_zgaia_dzmid_Ghi 70\n",
      "p_outliers_zspz_dzhi_Ghi 9\n",
      "p_acc_zspz_dzhi_Ghi 91\n",
      "p_outliers_zgaia_dzhi_Ghi 28\n",
      "p_acc_zgaia_dzhi_Ghi 72\n",
      "p_outliers_gall_zgaia_dzlo_Gbright 9\n",
      "p_acc_gall_zgaia_dzlo_Gbright 91\n",
      "p_outliers_gall_zgaia_dzmid_Gbright 7\n",
      "p_acc_gall_zgaia_dzmid_Gbright 93\n",
      "p_outliers_gall_zgaia_dzhi_Gbright 6\n",
      "p_acc_gall_zgaia_dzhi_Gbright 94\n",
      "p_outliers_gall_zgaia_dzlo_Glo 25\n",
      "p_acc_gall_zgaia_dzlo_Glo 75\n",
      "p_outliers_gall_zgaia_dzmid_Glo 19\n",
      "p_acc_gall_zgaia_dzmid_Glo 81\n",
      "p_outliers_gall_zgaia_dzhi_Glo 18\n",
      "p_acc_gall_zgaia_dzhi_Glo 82\n",
      "p_outliers_gall_zgaia_dzlo_Ghi 38\n",
      "p_acc_gall_zgaia_dzlo_Ghi 62\n",
      "p_outliers_gall_zgaia_dzmid_Ghi 30\n",
      "p_acc_gall_zgaia_dzmid_Ghi 70\n",
      "p_outliers_gall_zgaia_dzhi_Ghi 28\n",
      "p_acc_gall_zgaia_dzhi_Ghi 72\n",
      "factor_reduction_outliers_dzlo_Glo ${\\sim}1\\times$\n",
      "factor_reduction_outliers_dzmid_Glo ${\\sim}2\\times$\n",
      "factor_reduction_outliers_dzhi_Glo ${\\sim}3\\times$\n",
      "factor_reduction_outliers_dzlo_Ghi ${\\sim}1\\times$\n",
      "factor_reduction_outliers_dzmid_Ghi ${\\sim}2\\times$\n",
      "factor_reduction_outliers_dzhi_Ghi ${\\sim}3\\times$\n",
      "p_zreliable_gall 20\n",
      "p_acc_gall_zgaia_dzlo 53\n",
      "p_acc_gall_zreliable_zgaia_dzlo 86\n",
      "p_acc_gall_zgaia_dzmid 62\n",
      "p_acc_gall_zreliable_zgaia_dzmid 91\n",
      "p_acc_gall_zgaia_dzhi 65\n",
      "p_acc_gall_zreliable_zgaia_dzhi 92\n",
      "N_removed_pmcut 39470\n",
      "p_removed_pmcut 2.6\n",
      "factor_reduction_contaminants ${\\sim}4\\times$\n",
      "p_sqall_excluded_clean 1.2\n",
      "Avhi 0.5\n",
      "area_below_Avhi 29154.54 deg$^2$\n",
      "fsky_below_Avhi 0.71\n",
      "volume_effective_gcatlo_below_Avhi 3.28 $(h^{-1}\\,Gpc)^3$\n",
      "volume_effective_gcathi_below_Avhi 7.85 $(h^{-1}\\,Gpc)^3$\n",
      "area_sdss 4808 deg$^2$\n",
      "fsky_sdss 0.12\n",
      "volume_effective_sdss 5.72 $(h^{-1}\\,Gpc)^3$\n",
      "factor_area_belowAvhi_sdss ${\\sim}6\\times$\n",
      "factor_volume_effective_gcathi_sdss ${\\sim}1.4\\times$\n",
      "area_eboss 4808 deg$^2$\n",
      "fsky_eboss 0.12\n",
      "volume_effective_eboss 3.41 $(h^{-1}\\,Gpc)^3$\n",
      "factor_area_belowAvhi_eboss ${\\sim}6\\times$\n",
      "factor_volume_effective_gcathi_eboss ${\\sim}1.4\\times$\n",
      "rmse_fractional_residuals_Glo 0.26\n",
      "rmse_fractional_residuals_Ghi 0.28\n",
      "color_cut_str (G-W1) &> 2.15 \\\\ (W1-W2) &> 0.4 \\\\ (BP-G) &> -0.3 \\\\ (G-W1) + 1.2\\,(W1-W2) &> 3.4\n",
      "\n",
      "Saved to ../data/quantities.txt!\n"
     ]
    }
   ],
   "source": [
    "with open(fn_quants, 'w') as f:\n",
    "    for key, val in quants.items():\n",
    "        print(key, val)\n",
    "        if save:\n",
    "            f.write(f'{key} = {val}\\n')\n",
    "if save:\n",
    "    print()\n",
    "    print(f\"Saved to {fn_quants}!\")"
   ]
  },
  {
   "cell_type": "markdown",
   "id": "ace97316",
   "metadata": {},
   "source": [
    "# Table from public catalog"
   ]
  },
  {
   "cell_type": "code",
   "execution_count": 121,
   "id": "b0fbca4d",
   "metadata": {},
   "outputs": [],
   "source": [
    "fn_public = f'../data/quaia_G20.5.fits'\n",
    "tab_public = utils.load_table(fn_public)\n",
    "columns = tab_public.columns\n",
    "columns_list = list(columns)"
   ]
  },
  {
   "cell_type": "code",
   "execution_count": 122,
   "id": "72cad29a",
   "metadata": {},
   "outputs": [],
   "source": [
    "columns_tex = [column.replace(\"_\", \"\\\\_\") for column in columns]\n",
    "# first \\ escapes turning \\t into tab lol\n",
    "columns_show = [f'\\\\texttt{{{column_tex}}}' for column_tex in columns_tex]"
   ]
  },
  {
   "cell_type": "code",
   "execution_count": 123,
   "id": "8156af6d",
   "metadata": {},
   "outputs": [],
   "source": [
    "symbols_show = [utils.label2symbol_dict[column] for column in columns]\n",
    "units = [tab_public[column].info.unit for column in columns]\n",
    "units_show = [utils.unit2latex_dict[str(unit)] if str(unit) in utils.unit2latex_dict else str(unit) for unit in units]\n",
    "descriptions_show = [tab_public[column].info.description for column in columns]"
   ]
  },
  {
   "cell_type": "code",
   "execution_count": 124,
   "id": "17a2c00c",
   "metadata": {},
   "outputs": [],
   "source": [
    "idx_show = 0\n",
    "values = [tab_public[column][idx_show] for column in columns]\n",
    "values_show = [f'{values[i]:{utils.label2format_dict[columns_list[i]]}}' for i in range(len(columns))]"
   ]
  },
  {
   "cell_type": "code",
   "execution_count": 125,
   "id": "1c7389b6",
   "metadata": {},
   "outputs": [],
   "source": [
    "table_table = Table([columns_show, symbols_show, units_show, descriptions_show, values_show], \n",
    "                    names=('column name', 'symbol', 'units', 'description', 'example entry value'))"
   ]
  },
  {
   "cell_type": "code",
   "execution_count": 126,
   "id": "38c4ab84",
   "metadata": {
    "scrolled": false
   },
   "outputs": [
    {
     "data": {
      "text/html": [
       "<div><i>Table length=18</i>\n",
       "<table id=\"table22471280319920\" class=\"table-striped table-bordered table-condensed\">\n",
       "<thead><tr><th>column name</th><th>symbol</th><th>units</th><th>description</th><th>example entry value</th></tr></thead>\n",
       "<thead><tr><th>str29</th><th>str21</th><th>str8</th><th>str61</th><th>str16</th></tr></thead>\n",
       "<tr><td>\\texttt{source\\_id}</td><td></td><td></td><td>\\emph{Gaia} DR3 source identifier</td><td>6459630980096</td></tr>\n",
       "<tr><td>\\texttt{unwise\\_objid}</td><td></td><td></td><td>unWISE DR1 source identifier</td><td>0453p000o0014479</td></tr>\n",
       "<tr><td>\\texttt{redshift\\_quaia}</td><td>$z_\\mathrm{Quaia}$</td><td></td><td>spectrophotometric redshift estimate</td><td>0.416867</td></tr>\n",
       "<tr><td>\\texttt{redshift\\_quaia\\_err}</td><td></td><td></td><td>$1\\sigma$ uncertainty on spectrophotometric redshift estimate</td><td>0.062063</td></tr>\n",
       "<tr><td>\\texttt{ra}</td><td></td><td>deg</td><td>right ascension</td><td>44.910498</td></tr>\n",
       "<tr><td>\\texttt{dec}</td><td></td><td>deg</td><td>declination</td><td>0.189649</td></tr>\n",
       "<tr><td>\\texttt{l}</td><td></td><td>deg</td><td>galactic longitude</td><td>176.659434</td></tr>\n",
       "<tr><td>\\texttt{b}</td><td></td><td>deg</td><td>galactic latitude</td><td>-48.835164</td></tr>\n",
       "<tr><td>\\texttt{phot\\_g\\_mean\\_mag}</td><td>$G$</td><td>mag</td><td>\\emph{Gaia} $G$-band mean magnitude</td><td>20.173105</td></tr>\n",
       "<tr><td>\\texttt{phot\\_bp\\_mean\\_mag}</td><td>$BP$</td><td>mag</td><td>\\emph{Gaia} integrated $BP$ mean magnitude</td><td>20.200150</td></tr>\n",
       "<tr><td>\\texttt{phot\\_rp\\_mean\\_mag}</td><td>$RP$</td><td>mag</td><td>\\emph{Gaia} integrated $RP$ mean magnitude</td><td>18.871586</td></tr>\n",
       "<tr><td>\\texttt{mag\\_w1\\_vg}</td><td>$W1$</td><td>mag</td><td>unWISE $W1$ magnitude</td><td>14.774343</td></tr>\n",
       "<tr><td>\\texttt{mag\\_w2\\_vg}</td><td>$W2$</td><td>mag</td><td>unWISE $W2$ magnitude</td><td>13.923867</td></tr>\n",
       "<tr><td>\\texttt{pm}</td><td>$\\mu$</td><td>mas / yr</td><td>proper motion</td><td>0.383797</td></tr>\n",
       "<tr><td>\\texttt{pmra}</td><td>$\\mu_{\\alpha*}$</td><td>mas / yr</td><td>proper motion in right ascension direction</td><td>0.217806</td></tr>\n",
       "<tr><td>\\texttt{pmdec}</td><td>$\\mu_{\\delta}$</td><td>mas / yr</td><td>proper motion in declination direction</td><td>-0.316007</td></tr>\n",
       "<tr><td>\\texttt{pmra\\_error}</td><td>$\\sigma_{\\mu\\alpha*}$</td><td>mas / yr</td><td>standard error of proper motion in right ascension direction</td><td>0.679419</td></tr>\n",
       "<tr><td>\\texttt{pmdec\\_error}</td><td>$\\sigma_{\\mu\\delta}$</td><td>mas / yr</td><td>standard error of proper motion in declination direction</td><td>0.608799</td></tr>\n",
       "</table></div>"
      ],
      "text/plain": [
       "<Table length=18>\n",
       "         column name                  symbol        ... example entry value\n",
       "            str29                     str21         ...        str16       \n",
       "----------------------------- --------------------- ... -------------------\n",
       "          \\texttt{source\\_id}                       ...       6459630980096\n",
       "       \\texttt{unwise\\_objid}                       ...    0453p000o0014479\n",
       "     \\texttt{redshift\\_quaia}    $z_\\mathrm{Quaia}$ ...            0.416867\n",
       "\\texttt{redshift\\_quaia\\_err}                       ...            0.062063\n",
       "                  \\texttt{ra}                       ...           44.910498\n",
       "                 \\texttt{dec}                       ...            0.189649\n",
       "                   \\texttt{l}                       ...          176.659434\n",
       "                   \\texttt{b}                       ...          -48.835164\n",
       "  \\texttt{phot\\_g\\_mean\\_mag}                   $G$ ...           20.173105\n",
       " \\texttt{phot\\_bp\\_mean\\_mag}                  $BP$ ...           20.200150\n",
       " \\texttt{phot\\_rp\\_mean\\_mag}                  $RP$ ...           18.871586\n",
       "         \\texttt{mag\\_w1\\_vg}                  $W1$ ...           14.774343\n",
       "         \\texttt{mag\\_w2\\_vg}                  $W2$ ...           13.923867\n",
       "                  \\texttt{pm}                 $\\mu$ ...            0.383797\n",
       "                \\texttt{pmra}       $\\mu_{\\alpha*}$ ...            0.217806\n",
       "               \\texttt{pmdec}        $\\mu_{\\delta}$ ...           -0.316007\n",
       "         \\texttt{pmra\\_error} $\\sigma_{\\mu\\alpha*}$ ...            0.679419\n",
       "        \\texttt{pmdec\\_error}  $\\sigma_{\\mu\\delta}$ ...            0.608799"
      ]
     },
     "execution_count": 126,
     "metadata": {},
     "output_type": "execute_result"
    }
   ],
   "source": [
    "table_table"
   ]
  },
  {
   "cell_type": "code",
   "execution_count": 127,
   "id": "6fa2a218",
   "metadata": {},
   "outputs": [],
   "source": [
    "table_column_names = table_table.colnames"
   ]
  },
  {
   "cell_type": "code",
   "execution_count": 128,
   "id": "018eebc7",
   "metadata": {},
   "outputs": [
    {
     "name": "stdout",
     "output_type": "stream",
     "text": [
      "\\texttt{source\\_id} &  &  & \\emph{Gaia} DR3 source identifier & 6459630980096 \\\\\n",
      "\\texttt{unwise\\_objid} &  &  & unWISE DR1 source identifier & 0453p000o0014479 \\\\\n",
      "\\texttt{redshift\\_quaia} & $z_\\mathrm{Quaia}$ &  & spectrophotometric redshift estimate & 0.416867 \\\\\n",
      "\\texttt{redshift\\_quaia\\_err} &  &  & $1\\sigma$ uncertainty on spectrophotometric redshift estimate & 0.062063 \\\\\n",
      "\\texttt{ra} &  & deg & right ascension & 44.910498 \\\\\n",
      "\\texttt{dec} &  & deg & declination & 0.189649 \\\\\n",
      "\\texttt{l} &  & deg & galactic longitude & 176.659434 \\\\\n",
      "\\texttt{b} &  & deg & galactic latitude & -48.835164 \\\\\n",
      "\\texttt{phot\\_g\\_mean\\_mag} & $G$ & mag & \\emph{Gaia} $G$-band mean magnitude & 20.173105 \\\\\n",
      "\\texttt{phot\\_bp\\_mean\\_mag} & $BP$ & mag & \\emph{Gaia} integrated $BP$ mean magnitude & 20.200150 \\\\\n",
      "\\texttt{phot\\_rp\\_mean\\_mag} & $RP$ & mag & \\emph{Gaia} integrated $RP$ mean magnitude & 18.871586 \\\\\n",
      "\\texttt{mag\\_w1\\_vg} & $W1$ & mag & unWISE $W1$ magnitude & 14.774343 \\\\\n",
      "\\texttt{mag\\_w2\\_vg} & $W2$ & mag & unWISE $W2$ magnitude & 13.923867 \\\\\n",
      "\\texttt{pm} & $\\mu$ & mas / yr & proper motion & 0.383797 \\\\\n",
      "\\texttt{pmra} & $\\mu_{\\alpha*}$ & mas / yr & proper motion in right ascension direction & 0.217806 \\\\\n",
      "\\texttt{pmdec} & $\\mu_{\\delta}$ & mas / yr & proper motion in declination direction & -0.316007 \\\\\n",
      "\\texttt{pmra\\_error} & $\\sigma_{\\mu\\alpha*}$ & mas / yr & standard error of proper motion in right ascension direction & 0.679419 \\\\\n",
      "\\texttt{pmdec\\_error} & $\\sigma_{\\mu\\delta}$ & mas / yr & standard error of proper motion in declination direction & 0.608799 \\\\\n"
     ]
    }
   ],
   "source": [
    "table_contents = '\\\\begin{tabular}'\n",
    "table_contents += '{|'+'|'.join(['l' for _ in table_column_names]) + '|}\\n'\n",
    "table_contents += '\\hline\\n'\n",
    "table_contents += ' & '.join(table_column_names) + ' \\\\\\\\\\n'\n",
    "table_contents += '\\hline\\n'\n",
    "for i in range(len(table_table)):\n",
    "    row_vals = [table_table[tcn][i] for tcn in table_column_names]\n",
    "    row = ' & '.join(row_vals) + ' \\\\\\\\\\n'\n",
    "#     if i<len(table_table)-1:\n",
    "#         row += ' \\\\\\\\ \\n'\n",
    "    print(row,end='') # end makes print not print an additional newline\n",
    "    table_contents += row\n",
    "table_contents += '\\hline\\n'\n",
    "table_contents += '\\end{tabular}'"
   ]
  },
  {
   "cell_type": "code",
   "execution_count": 129,
   "id": "936718d3",
   "metadata": {},
   "outputs": [
    {
     "name": "stdout",
     "output_type": "stream",
     "text": [
      "Saved to ../data/catalog_table.txt!\n"
     ]
    }
   ],
   "source": [
    "fn_table = '../data/catalog_table.txt'\n",
    "with open(fn_table, 'w') as f:\n",
    "    if save:\n",
    "        f.write(table_contents)\n",
    "if save:\n",
    "    print(f\"Saved to {fn_table}!\")"
   ]
  },
  {
   "cell_type": "code",
   "execution_count": null,
   "id": "1e7e49cb",
   "metadata": {},
   "outputs": [],
   "source": []
  }
 ],
 "metadata": {
  "kernelspec": {
   "display_name": "Python [conda env:gaiaenv]",
   "language": "python",
   "name": "conda-env-gaiaenv-py"
  },
  "language_info": {
   "codemirror_mode": {
    "name": "ipython",
    "version": 3
   },
   "file_extension": ".py",
   "mimetype": "text/x-python",
   "name": "python",
   "nbconvert_exporter": "python",
   "pygments_lexer": "ipython3",
   "version": "3.10.6"
  }
 },
 "nbformat": 4,
 "nbformat_minor": 5
}
