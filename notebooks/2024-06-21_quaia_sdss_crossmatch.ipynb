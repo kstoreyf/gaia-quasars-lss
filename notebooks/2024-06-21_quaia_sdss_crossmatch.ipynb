{
 "cells": [
  {
   "cell_type": "code",
   "execution_count": 84,
   "id": "26c424c9",
   "metadata": {},
   "outputs": [],
   "source": [
    "import numpy as np\n",
    "\n",
    "import matplotlib as mpl\n",
    "import matplotlib.pyplot as plt\n",
    "%matplotlib inline\n",
    "mpl.rcParams['figure.dpi'] = 150\n",
    "\n",
    "import astropy\n",
    "from astropy.table import Table, join, vstack\n",
    "from astropy import units as u\n",
    "from astropy.coordinates import SkyCoord"
   ]
  },
  {
   "cell_type": "markdown",
   "id": "a8fec6f7",
   "metadata": {},
   "source": [
    "Read in data:"
   ]
  },
  {
   "cell_type": "code",
   "execution_count": 3,
   "id": "50aa478a",
   "metadata": {},
   "outputs": [
    {
     "name": "stdout",
     "output_type": "stream",
     "text": [
      "Columns: <TableColumns names=('source_id','unwise_objid','redshift_quaia','redshift_quaia_err','ra','dec','l','b','phot_g_mean_mag','phot_bp_mean_mag','phot_rp_mean_mag','mag_w1_vg','mag_w2_vg','pm','pmra','pmdec','pmra_error','pmdec_error')>\n",
      "N = 1295502\n"
     ]
    }
   ],
   "source": [
    "tab_quaia = Table.read('../data/quaia_G20.5.fits')\n",
    "print(\"Columns:\", tab_quaia.columns)\n",
    "print(\"N =\", len(tab_quaia))"
   ]
  },
  {
   "cell_type": "code",
   "execution_count": 9,
   "id": "0333f8ab",
   "metadata": {},
   "outputs": [
    {
     "name": "stdout",
     "output_type": "stream",
     "text": [
      "Columns: <TableColumns names=('specObjID','ra','dec','class','subClass','z','zWarning','sciencePrimary')>\n",
      "N = 5112724\n"
     ]
    }
   ],
   "source": [
    "tab_sdss = Table.read('../data/sdss_specall.csv')\n",
    "print(\"Columns:\", tab_sdss.columns)\n",
    "print(\"N =\", len(tab_sdss))"
   ]
  },
  {
   "cell_type": "code",
   "execution_count": 10,
   "id": "576dded3",
   "metadata": {},
   "outputs": [
    {
     "data": {
      "text/plain": [
       "{'GALAXY', 'QSO', 'STAR'}"
      ]
     },
     "execution_count": 10,
     "metadata": {},
     "output_type": "execute_result"
    }
   ],
   "source": [
    "set(tab_sdss['class'])"
   ]
  },
  {
   "cell_type": "markdown",
   "id": "d96b1e8c",
   "metadata": {},
   "source": [
    "These should all be \"sciencePrimary\" because we got them from the specObj view of the table in SkyServer (not SpecObjAll)"
   ]
  },
  {
   "cell_type": "code",
   "execution_count": 23,
   "id": "ae94ba51",
   "metadata": {},
   "outputs": [
    {
     "data": {
      "text/plain": [
       "{1}"
      ]
     },
     "execution_count": 23,
     "metadata": {},
     "output_type": "execute_result"
    }
   ],
   "source": [
    "set(tab_sdss['sciencePrimary'])"
   ]
  },
  {
   "cell_type": "code",
   "execution_count": 43,
   "id": "32c22500",
   "metadata": {},
   "outputs": [
    {
     "name": "stdout",
     "output_type": "stream",
     "text": [
      "Columns: <TableColumns names=('SDSS_NAME','RA','DEC','PLATE','MJD','FIBERID','AUTOCLASS_PQN','AUTOCLASS_DR14Q','IS_QSO_QN','Z_QN','RANDOM_SELECT','Z_10K','Z_CONF_10K','PIPE_CORR_10K','IS_QSO_10K','THING_ID','Z_VI','Z_CONF','CLASS_PERSON','Z_DR12Q','IS_QSO_DR12Q','Z_DR7Q_SCH','IS_QSO_DR7Q','Z_DR6Q_HW','Z_DR7Q_HW','IS_QSO_FINAL','Z','SOURCE_Z','Z_PIPE','ZWARNING','OBJID','Z_PCA','ZWARN_PCA','DELTACHI2_PCA','Z_HALPHA','ZWARN_HALPHA','DELTACHI2_HALPHA','Z_HBETA','ZWARN_HBETA','DELTACHI2_HBETA','Z_MGII','ZWARN_MGII','DELTACHI2_MGII','Z_CIII','ZWARN_CIII','DELTACHI2_CIII','Z_CIV','ZWARN_CIV','DELTACHI2_CIV','Z_LYA','ZWARN_LYA','DELTACHI2_LYA','Z_LYAWG','Z_DLA','NHI_DLA','CONF_DLA','BAL_PROB','BI_CIV','ERR_BI_CIV','AI_CIV','ERR_AI_CIV','BI_SIIV','ERR_BI_SIIV','AI_SIIV','ERR_AI_SIIV','BOSS_TARGET1','EBOSS_TARGET0','EBOSS_TARGET1','EBOSS_TARGET2','ANCILLARY_TARGET1','ANCILLARY_TARGET2','NSPEC_SDSS','NSPEC_BOSS','NSPEC','PLATE_DUPLICATE','MJD_DUPLICATE','FIBERID_DUPLICATE','SPECTRO_DUPLICATE','SKYVERSION','RUN_NUMBER','RERUN_NUMBER','CAMCOL_NUMBER','FIELD_NUMBER','ID_NUMBER','LAMBDA_EFF','ZOFFSET','XFOCAL','YFOCAL','CHUNK','TILE','PLATESN2','PSFFLUX','PSFFLUX_IVAR','PSFMAG','PSFMAGERR','EXTINCTION','M_I','SN_MEDIAN_ALL','GALEX_MATCHED','FUV','FUV_IVAR','NUV','NUV_IVAR','UKIDSS_MATCHED','YFLUX','YFLUX_ERR','JFLUX','JFLUX_ERR','HFLUX','HFLUX_ERR','KFLUX','KFLUX_ERR','W1_FLUX','W1_FLUX_IVAR','W1_MAG','W1_MAG_ERR','W1_CHI2','W1_FLUX_SNR','W1_SRC_FRAC','W1_EXT_FLUX','W1_EXT_FRAC','W1_NPIX','W2_FLUX','W2_FLUX_IVAR','W2_MAG','W2_MAG_ERR','W2_CHI2','W2_FLUX_SNR','W2_SRC_FRAC','W2_EXT_FLUX','W2_EXT_FRAC','W2_NPIX','FIRST_MATCHED','FIRST_FLUX','FIRST_SNR','SDSS2FIRST_SEP','JMAG','JMAG_ERR','JSNR','JRDFLAG','HMAG','HMAG_ERR','HSNR','HRDFLAG','KMAG','KMAG_ERR','KSNR','KRDFLAG','SDSS2MASS_SEP','2RXS_ID','2RXS_RA','2RXS_DEC','2RXS_SRC_FLUX','2RXS_SRC_FLUX_ERR','SDSS2ROSAT_SEP','XMM_SRC_ID','XMM_RA','XMM_DEC','XMM_SOFT_FLUX','XMM_SOFT_FLUX_ERR','XMM_HARD_FLUX','XMM_HARD_FLUX_ERR','XMM_TOTAL_FLUX','XMM_TOTAL_FLUX_ERR','XMM_TOTAL_LUM','SDSS2XMM_SEP','GAIA_MATCHED','GAIA_DESIGNATION','GAIA_RA','GAIA_DEC','GAIA_PARALLAX','GAIA_PARALLAX_ERR','GAIA_PM_RA','GAIA_PM_RA_ERR','GAIA_PM_DEC','GAIA_PM_DEC_ERR','GAIA_G_MAG','GAIA_G_FLUX_SNR','GAIA_BP_MAG','GAIA_BP_FLUX_SNR','GAIA_RP_MAG','GAIA_RP_FLUX_SNR','SDSS2GAIA_SEP')>\n",
      "N = 749413\n"
     ]
    }
   ],
   "source": [
    "tab_sdss_dr16q = Table.read('../data/SDSS_DR16Q_v4.fits')\n",
    "tab_sdss_dr16q = tab_sdss_dr16q[tab_sdss_dr16q['OBJID'].mask==False] #remove ones with no objid (1001)\n",
    "print(\"Columns:\", tab_sdss_dr16q.columns)\n",
    "print(\"N =\", len(tab_sdss_dr16q))"
   ]
  },
  {
   "cell_type": "code",
   "execution_count": 44,
   "id": "140a4a3c",
   "metadata": {},
   "outputs": [
    {
     "name": "stdout",
     "output_type": "stream",
     "text": [
      "1105286\n"
     ]
    }
   ],
   "source": [
    "tab_sdss_q = tab_sdss[tab_sdss['class']=='QSO']\n",
    "print(len(tab_sdss_q))"
   ]
  },
  {
   "cell_type": "markdown",
   "id": "3b8b47fe",
   "metadata": {},
   "source": [
    "Do cross-matching:"
   ]
  },
  {
   "cell_type": "code",
   "execution_count": 18,
   "id": "61be987e",
   "metadata": {},
   "outputs": [],
   "source": [
    "def cross_match(ra1, dec1, ra2, dec2, separation):\n",
    "    coords1 = SkyCoord(ra=ra1, dec=dec1, frame='icrs')    \n",
    "    coords2 = SkyCoord(ra=ra2, dec=dec2, frame='icrs') \n",
    "    cross = astropy.coordinates.search_around_sky(coords1, coords2, separation) \n",
    "    index_list_1in2, index_list_2in1 = cross[0], cross[1] \n",
    "    return index_list_1in2, index_list_2in1"
   ]
  },
  {
   "cell_type": "code",
   "execution_count": 19,
   "id": "af2a1ea7",
   "metadata": {},
   "outputs": [],
   "source": [
    "# Perform cross-match; 1 arcsec is a reasonable separation\n",
    "separation = 1*u.arcsec\n",
    "index_list_quaiaINsdss, index_list_sdssINquaia = cross_match(tab_quaia['ra'], tab_quaia['dec'],\n",
    "                                                           tab_sdss['ra']*u.degree, tab_sdss['dec']*u.degree,\n",
    "                                                           separation=separation)"
   ]
  },
  {
   "cell_type": "code",
   "execution_count": 25,
   "id": "8bd56ce6",
   "metadata": {},
   "outputs": [
    {
     "name": "stdout",
     "output_type": "stream",
     "text": [
      "Number of Quaia quasars: 1295502\n",
      "Number of SDSS sources: 5112724\n",
      "Number of Quaia quasars with SDSS match: 303203\n",
      "Number of SDSS sources with Gaia match: 303203\n"
     ]
    }
   ],
   "source": [
    "tab_quaia_with_sdss_match = tab_quaia[index_list_quaiaINsdss]\n",
    "tab_sdss_with_quaia_match = tab_sdss[index_list_sdssINquaia]\n",
    "\n",
    "# Can add info from SDSS table to Quaia table, as these should have the same length now, e.g.:\n",
    "for column in tab_sdss.columns:\n",
    "    tab_quaia_with_sdss_match.add_column(tab_sdss_with_quaia_match[column], name='sdss_'+column)\n",
    "\n",
    "# Print number in each table; last two lines should be identical\n",
    "print(f'Number of Quaia quasars: {len(tab_quaia)}')\n",
    "print(f'Number of SDSS sources: {len(tab_sdss)}')\n",
    "print(f'Number of Quaia quasars with SDSS match: {len(tab_quaia_with_sdss_match)}')\n",
    "print(f'Number of SDSS sources with Gaia match: {len(tab_sdss_with_quaia_match)}')"
   ]
  },
  {
   "cell_type": "code",
   "execution_count": 27,
   "id": "622e0486",
   "metadata": {},
   "outputs": [
    {
     "data": {
      "text/plain": [
       "<TableColumns names=('source_id','unwise_objid','redshift_quaia','redshift_quaia_err','ra','dec','l','b','phot_g_mean_mag','phot_bp_mean_mag','phot_rp_mean_mag','mag_w1_vg','mag_w2_vg','pm','pmra','pmdec','pmra_error','pmdec_error','sdss_specObjID','sdss_ra','sdss_dec','sdss_class','sdss_subClass','sdss_z','sdss_zWarning','sdss_sciencePrimary')>"
      ]
     },
     "execution_count": 27,
     "metadata": {},
     "output_type": "execute_result"
    }
   ],
   "source": [
    "tab_quaia_with_sdss_match.columns"
   ]
  },
  {
   "cell_type": "code",
   "execution_count": 28,
   "id": "959dc3d9",
   "metadata": {},
   "outputs": [
    {
     "name": "stdout",
     "output_type": "stream",
     "text": [
      "Number of Quaia quasars with SDSS match with no z-warning: 294693\n"
     ]
    }
   ],
   "source": [
    "tab_quaia_with_sdss_match_nozw = tab_quaia_with_sdss_match[tab_quaia_with_sdss_match['sdss_zWarning']==0]\n",
    "print(f'Number of Quaia quasars with SDSS match with no z-warning: {len(tab_quaia_with_sdss_match_nozw)}')"
   ]
  },
  {
   "cell_type": "markdown",
   "id": "240c302f",
   "metadata": {},
   "source": [
    "Note: for the galaxy sample for quaia, we excluded galaxies with subClass='AGN' or 'AGN BROADLINE'; we have not done that here"
   ]
  },
  {
   "cell_type": "code",
   "execution_count": 39,
   "id": "cf225bec",
   "metadata": {},
   "outputs": [
    {
     "name": "stdout",
     "output_type": "stream",
     "text": [
      "Number of matched stars: 273\n",
      "Number of matched stars with no z-warning: 123\n",
      "\n",
      "Number of matched galaxies: 2124\n",
      "Number of matched galaxies with no z-warning: 669\n",
      "\n",
      "Number of matched QSOs: 300806\n",
      "Number of matched QSOs with no z-warning: 293901\n"
     ]
    }
   ],
   "source": [
    "print(f\"Number of matched stars: {np.sum(tab_quaia_with_sdss_match['sdss_class']=='STAR')}\")\n",
    "print(f\"Number of matched stars with no z-warning: {np.sum(tab_quaia_with_sdss_match_nozw['sdss_class']=='STAR')}\")\n",
    "print()\n",
    "print(f\"Number of matched galaxies: {np.sum(tab_quaia_with_sdss_match['sdss_class']=='GALAXY')}\")\n",
    "print(f\"Number of matched galaxies with no z-warning: {np.sum(tab_quaia_with_sdss_match_nozw['sdss_class']=='GALAXY')}\")\n",
    "print()\n",
    "print(f\"Number of matched QSOs: {np.sum(tab_quaia_with_sdss_match['sdss_class']=='QSO')}\")\n",
    "print(f\"Number of matched QSOs with no z-warning: {np.sum(tab_quaia_with_sdss_match_nozw['sdss_class']=='QSO')}\")"
   ]
  },
  {
   "cell_type": "markdown",
   "id": "d424dc2e",
   "metadata": {},
   "source": [
    "Now let's check the downloaded SDSS DR16 catalog:"
   ]
  },
  {
   "cell_type": "code",
   "execution_count": 52,
   "id": "73638e46",
   "metadata": {},
   "outputs": [],
   "source": [
    "# Perform cross-match; 1 arcsec is a reasonable separation\n",
    "separation = 1*u.arcsec\n",
    "index_list_quaiaINsdssdr16q, index_list_sdssdr16qINquaia = cross_match(tab_quaia['ra'], tab_quaia['dec'],\n",
    "                                                           tab_sdss_dr16q['RA']*u.degree, tab_sdss_dr16q['DEC']*u.degree,\n",
    "                                                           separation=separation)"
   ]
  },
  {
   "cell_type": "code",
   "execution_count": 81,
   "id": "226218cf",
   "metadata": {},
   "outputs": [
    {
     "name": "stdout",
     "output_type": "stream",
     "text": [
      "Number of Quaia quasars with SDSS  DR16Q match: 294149\n",
      "Number of SDSS DR16Q sources with Gaia match: 294149\n"
     ]
    }
   ],
   "source": [
    "tab_quaia_with_sdssdr16q_match = tab_quaia[index_list_quaiaINsdssdr16q]\n",
    "tab_sdssdr16q_with_quaia_match = tab_sdss_dr16q[index_list_sdssdr16qINquaia]\n",
    "\n",
    "# Can add info from SDSS table to Quaia table, as these should have the same length now, e.g.:\n",
    "for column in tab_sdss_dr16q.columns:\n",
    "    tab_quaia_with_sdssdr16q_match.add_column(tab_sdssdr16q_with_quaia_match[column], name='sdss_'+column)\n",
    "\n",
    "# Print number in each table; last two lines should be identical\n",
    "print(f'Number of Quaia quasars with SDSS  DR16Q match: {len(tab_quaia_with_sdssdr16q_match)}')\n",
    "print(f'Number of SDSS DR16Q sources with Gaia match: {len(tab_sdssdr16q_with_quaia_match)}')"
   ]
  },
  {
   "cell_type": "markdown",
   "id": "a68f97c1",
   "metadata": {},
   "source": [
    "So we got a few more here than with our SkyServer download; let's check em out"
   ]
  },
  {
   "cell_type": "code",
   "execution_count": 59,
   "id": "2a6ffe7e",
   "metadata": {},
   "outputs": [],
   "source": [
    "tab_quaia_with_sdss_match.add_index('source_id')\n",
    "tab_quaia_with_sdssdr16q_match.add_index('source_id')"
   ]
  },
  {
   "cell_type": "code",
   "execution_count": 76,
   "id": "1f4db93d",
   "metadata": {},
   "outputs": [],
   "source": [
    "tab_quaia_sdss_compare.add_index('source_id')"
   ]
  },
  {
   "cell_type": "code",
   "execution_count": 83,
   "id": "716b49b0",
   "metadata": {},
   "outputs": [
    {
     "name": "stdout",
     "output_type": "stream",
     "text": [
      "All for those with Quaia matches:\n",
      "Number of SDSS QSOs in SDSS DR16Q: 294060\n",
      "Number of SDSS QSOs NOT in SDSS DR16Q: 9143\n",
      "Number of SDSS DR16Q sources in SDSS QSOs: 294062\n",
      "Number of SDSS DR16Q sources NOT in SDSS QSOs: 87\n"
     ]
    }
   ],
   "source": [
    "print(\"All for those with Quaia matches:\")\n",
    "# output isin: Has the same shape as element. The values element[isin] are in test_elements.\n",
    "i_sdss_in_sdssdr16q = np.isin(tab_quaia_with_sdss_match['source_id'], tab_quaia_with_sdssdr16q_match['source_id'])\n",
    "print('Number of SDSS QSOs in SDSS DR16Q:', np.sum(i_sdss_in_sdssdr16q))\n",
    "print('Number of SDSS QSOs NOT in SDSS DR16Q:', np.sum(~i_sdss_in_sdssdr16q))\n",
    "\n",
    "i_sdssdr16q_in_sdss = np.isin(tab_quaia_with_sdssdr16q_match['source_id'], tab_quaia_with_sdss_match['source_id'])\n",
    "print('Number of SDSS DR16Q sources in SDSS QSOs:', np.sum(i_sdssdr16q_in_sdss))\n",
    "print('Number of SDSS DR16Q sources NOT in SDSS QSOs:', np.sum(~i_sdssdr16q_in_sdss))"
   ]
  },
  {
   "cell_type": "markdown",
   "id": "3c081b92",
   "metadata": {},
   "source": [
    "So here's our final table of Quaia souces with SDSS spectra:"
   ]
  },
  {
   "cell_type": "code",
   "execution_count": 90,
   "id": "8f380c1f",
   "metadata": {},
   "outputs": [
    {
     "name": "stdout",
     "output_type": "stream",
     "text": [
      "Number of Quaia quasars with any SDSS spectrum: 303292\n"
     ]
    }
   ],
   "source": [
    "tab_quaia_sdss_combined = join(tab_quaia_with_sdss_match, tab_quaia_with_sdssdr16q_match, keys='source_id',\n",
    "                              join_type='outer')\n",
    "print(f'Number of Quaia quasars with any SDSS spectrum: {len(tab_quaia_sdss_combined)}')"
   ]
  },
  {
   "cell_type": "code",
   "execution_count": 89,
   "id": "b4c03e4c",
   "metadata": {},
   "outputs": [
    {
     "name": "stdout",
     "output_type": "stream",
     "text": [
      "Number of Quaia quasars with any SDSS spectrum with no z-warning: 294695\n"
     ]
    }
   ],
   "source": [
    "tab_quaia_sdss_combined_nozw = tab_quaia_sdss_combined[tab_quaia_sdss_combined['sdss_zWarning']==0]\n",
    "print(f'Number of Quaia quasars with any SDSS spectrum with no z-warning: {len(tab_quaia_sdss_combined_nozw)}')"
   ]
  },
  {
   "cell_type": "code",
   "execution_count": null,
   "id": "8b92d43b",
   "metadata": {},
   "outputs": [],
   "source": []
  }
 ],
 "metadata": {
  "kernelspec": {
   "display_name": "Python [conda env:gaiaenv]",
   "language": "python",
   "name": "conda-env-gaiaenv-py"
  },
  "language_info": {
   "codemirror_mode": {
    "name": "ipython",
    "version": 3
   },
   "file_extension": ".py",
   "mimetype": "text/x-python",
   "name": "python",
   "nbconvert_exporter": "python",
   "pygments_lexer": "ipython3",
   "version": "3.10.10"
  }
 },
 "nbformat": 4,
 "nbformat_minor": 5
}
