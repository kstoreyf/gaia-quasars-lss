{
 "cells": [
  {
   "cell_type": "code",
   "execution_count": null,
   "metadata": {},
   "outputs": [],
   "source": [
    "import numpy as np\n",
    "import healpy as hp\n",
    "from healpy.newvisufunc import projview\n",
    "from astropy.table import Table\n",
    "\n",
    "import matplotlib\n",
    "from matplotlib import pyplot as plt"
   ]
  },
  {
   "cell_type": "code",
   "execution_count": null,
   "metadata": {},
   "outputs": [],
   "source": [
    "matplotlib.rcParams['ytick.labelsize'] = 18\n",
    "matplotlib.rcParams['xtick.labelsize'] = 18\n",
    "matplotlib.rcParams['axes.labelsize'] = 22\n",
    "matplotlib.rcParams['legend.fontsize'] = 18\n",
    "\n",
    "matplotlib.rc('text', usetex=True)"
   ]
  },
  {
   "cell_type": "code",
   "execution_count": null,
   "metadata": {},
   "outputs": [],
   "source": [
    "cmap_map = 'plasma'"
   ]
  },
  {
   "cell_type": "code",
   "execution_count": null,
   "metadata": {},
   "outputs": [],
   "source": [
    "fn_zodi = f'/scratch/aew492/quasars/maps/zodi/zodimap_90degfromSun_oneyear_1.2um.fits'\n",
    "#map_zodi = maps.get_unwise_scan_map(NSIDE, fn_map=fn_unwisescanmap)\n",
    "map_zodi = hp.read_map(fn_zodi)\n",
    "\n",
    "projview(map_zodi, title=rf\"Zodi\",\n",
    "         unit=r\"mean $A_v$ in healpixel\", cmap=cmap_map, coord=['C', 'G'], \n",
    "         #min=0.0, max=3, cbar_ticks=[0, 0.25, 0.5, 0.75, 1.0],\n",
    "         min=0.01, max=10, cbar_ticks=[0.01, 0.1, 1, 10],\n",
    "         graticule=True, norm='log')"
   ]
  }
 ],
 "metadata": {
  "kernelspec": {
   "display_name": "Python 3",
   "language": "python",
   "name": "python3"
  },
  "language_info": {
   "codemirror_mode": {
    "name": "ipython",
    "version": 3
   },
   "file_extension": ".py",
   "mimetype": "text/x-python",
   "name": "python",
   "nbconvert_exporter": "python",
   "pygments_lexer": "ipython3",
   "version": "3.11.2"
  }
 },
 "nbformat": 4,
 "nbformat_minor": 4
}
